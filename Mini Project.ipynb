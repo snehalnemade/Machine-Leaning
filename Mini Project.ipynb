{
 "cells": [
  {
   "cell_type": "code",
   "execution_count": 1,
   "metadata": {},
   "outputs": [],
   "source": [
    "import numpy as np\n",
    "import pandas as pd\n",
    "import json as js"
   ]
  },
  {
   "cell_type": "code",
   "execution_count": 2,
   "metadata": {},
   "outputs": [
    {
     "data": {
      "text/plain": [
       "{'InputPath': ['C:/Development/TradingSystemDev/FolderWithInputFiles'],\n",
       " 'TradeSplitterFiles': ['Trades_Calculation_0m-3m',\n",
       "  'Trades_Calculation_0m-6m',\n",
       "  'Trades_Calculation_0m-12m'],\n",
       " 'OutputPath': 'C:/Development/TradingSystemDev/FolderWithOutputFiles/',\n",
       " 'DataFrameFilters': [{'EntrySeconds': 'Maximum', 'Maximum': '420'},\n",
       "  {'PositionType': 'Equals', 'Equals': 'Short'},\n",
       "  {'Float': 'MinimumMaximum', 'Minimum': '0', 'Maximum': '500000000'},\n",
       "  {'EntryPrice': 'MinimumMaximum', 'Minimum': '20', 'Maximum': '180'}],\n",
       " 'DependentVariable_Classification': 'WinTrade',\n",
       " 'DependentVariable_Regression': 'PercentageProfit',\n",
       " 'IndependentVariables': 'EntrySeconds,Float,Vol1MinRatioMaxPD123,Vol1MinRatioMaxPD123_TotalVolume,AllExchangesVolume,IntradayCurrentMarketGapPerc,Fund52WeekChange,FundShortRatio,FundShortPercofFloat',\n",
       " 'OptimizationParameter': 'Sum(NetProfit)'}"
      ]
     },
     "execution_count": 2,
     "metadata": {},
     "output_type": "execute_result"
    }
   ],
   "source": [
    "js_obj = open(\"F:\\CLASS NOTES\\mini project\\MiniProject (1)\\MiniProject\\DataSet\\Input.json\")\n",
    "data = js.load(js_obj)    #now you can use data as a normal dict:\n",
    "\n",
    "#other method can be use to read json file\n",
    "#data=js.loads(js_obj.read())\n",
    "\n",
    "data"
   ]
  },
  {
   "cell_type": "code",
   "execution_count": 3,
   "metadata": {},
   "outputs": [
    {
     "name": "stdout",
     "output_type": "stream",
     "text": [
      "key: InputPath\n",
      "value: ['C:/Development/TradingSystemDev/FolderWithInputFiles']\n",
      "key: TradeSplitterFiles\n",
      "value: ['Trades_Calculation_0m-3m', 'Trades_Calculation_0m-6m', 'Trades_Calculation_0m-12m']\n",
      "key: OutputPath\n",
      "value: C:/Development/TradingSystemDev/FolderWithOutputFiles/\n",
      "key: DataFrameFilters\n",
      "value: [{'EntrySeconds': 'Maximum', 'Maximum': '420'}, {'PositionType': 'Equals', 'Equals': 'Short'}, {'Float': 'MinimumMaximum', 'Minimum': '0', 'Maximum': '500000000'}, {'EntryPrice': 'MinimumMaximum', 'Minimum': '20', 'Maximum': '180'}]\n",
      "key: DependentVariable_Classification\n",
      "value: WinTrade\n",
      "key: DependentVariable_Regression\n",
      "value: PercentageProfit\n",
      "key: IndependentVariables\n",
      "value: EntrySeconds,Float,Vol1MinRatioMaxPD123,Vol1MinRatioMaxPD123_TotalVolume,AllExchangesVolume,IntradayCurrentMarketGapPerc,Fund52WeekChange,FundShortRatio,FundShortPercofFloat\n",
      "key: OptimizationParameter\n",
      "value: Sum(NetProfit)\n"
     ]
    }
   ],
   "source": [
    "for (k,v) in data.items():\n",
    "    print(\"key: \" + k)\n",
    "    print(\"value: \" + str(v))"
   ]
  },
  {
   "cell_type": "code",
   "execution_count": 4,
   "metadata": {},
   "outputs": [
    {
     "data": {
      "text/html": [
       "<div>\n",
       "<style scoped>\n",
       "    .dataframe tbody tr th:only-of-type {\n",
       "        vertical-align: middle;\n",
       "    }\n",
       "\n",
       "    .dataframe tbody tr th {\n",
       "        vertical-align: top;\n",
       "    }\n",
       "\n",
       "    .dataframe thead th {\n",
       "        text-align: right;\n",
       "    }\n",
       "</style>\n",
       "<table border=\"1\" class=\"dataframe\">\n",
       "  <thead>\n",
       "    <tr style=\"text-align: right;\">\n",
       "      <th></th>\n",
       "      <th>DataFrameFilters</th>\n",
       "      <th>DependentVariable_Classification</th>\n",
       "      <th>DependentVariable_Regression</th>\n",
       "      <th>IndependentVariables</th>\n",
       "      <th>InputPath</th>\n",
       "      <th>OptimizationParameter</th>\n",
       "      <th>OutputPath</th>\n",
       "      <th>TradeSplitterFiles</th>\n",
       "    </tr>\n",
       "  </thead>\n",
       "  <tbody>\n",
       "    <tr>\n",
       "      <th>0</th>\n",
       "      <td>[{'EntrySeconds': 'Maximum', 'Maximum': '420'}...</td>\n",
       "      <td>WinTrade</td>\n",
       "      <td>PercentageProfit</td>\n",
       "      <td>EntrySeconds,Float,Vol1MinRatioMaxPD123,Vol1Mi...</td>\n",
       "      <td>[C:/Development/TradingSystemDev/FolderWithInp...</td>\n",
       "      <td>Sum(NetProfit)</td>\n",
       "      <td>C:/Development/TradingSystemDev/FolderWithOutp...</td>\n",
       "      <td>[Trades_Calculation_0m-3m, Trades_Calculation_...</td>\n",
       "    </tr>\n",
       "  </tbody>\n",
       "</table>\n",
       "</div>"
      ],
      "text/plain": [
       "                                    DataFrameFilters  \\\n",
       "0  [{'EntrySeconds': 'Maximum', 'Maximum': '420'}...   \n",
       "\n",
       "  DependentVariable_Classification DependentVariable_Regression  \\\n",
       "0                         WinTrade             PercentageProfit   \n",
       "\n",
       "                                IndependentVariables  \\\n",
       "0  EntrySeconds,Float,Vol1MinRatioMaxPD123,Vol1Mi...   \n",
       "\n",
       "                                           InputPath OptimizationParameter  \\\n",
       "0  [C:/Development/TradingSystemDev/FolderWithInp...        Sum(NetProfit)   \n",
       "\n",
       "                                          OutputPath  \\\n",
       "0  C:/Development/TradingSystemDev/FolderWithOutp...   \n",
       "\n",
       "                                  TradeSplitterFiles  \n",
       "0  [Trades_Calculation_0m-3m, Trades_Calculation_...  "
      ]
     },
     "execution_count": 4,
     "metadata": {},
     "output_type": "execute_result"
    }
   ],
   "source": [
    "df = pd.DataFrame([data])\n",
    "df"
   ]
  },
  {
   "cell_type": "markdown",
   "metadata": {},
   "source": [
    "# Step 1: Concate all file in one"
   ]
  },
  {
   "cell_type": "code",
   "execution_count": 5,
   "metadata": {},
   "outputs": [],
   "source": [
    "import glob"
   ]
  },
  {
   "cell_type": "code",
   "execution_count": 6,
   "metadata": {},
   "outputs": [
    {
     "name": "stderr",
     "output_type": "stream",
     "text": [
      "C:\\ProgramData\\Anaconda3\\lib\\site-packages\\IPython\\core\\interactiveshell.py:3296: DtypeWarning: Columns (116,117,129,137,141,146,162,164) have mixed types. Specify dtype option on import or set low_memory=False.\n",
      "  exec(code_obj, self.user_global_ns, self.user_ns)\n",
      "C:\\ProgramData\\Anaconda3\\lib\\site-packages\\IPython\\core\\interactiveshell.py:3296: DtypeWarning: Columns (137,141,146,162,164) have mixed types. Specify dtype option on import or set low_memory=False.\n",
      "  exec(code_obj, self.user_global_ns, self.user_ns)\n",
      "C:\\ProgramData\\Anaconda3\\lib\\site-packages\\IPython\\core\\interactiveshell.py:3296: DtypeWarning: Columns (116,121,129,132,137,141,146,162,164) have mixed types. Specify dtype option on import or set low_memory=False.\n",
      "  exec(code_obj, self.user_global_ns, self.user_ns)\n"
     ]
    },
    {
     "data": {
      "text/html": [
       "<div>\n",
       "<style scoped>\n",
       "    .dataframe tbody tr th:only-of-type {\n",
       "        vertical-align: middle;\n",
       "    }\n",
       "\n",
       "    .dataframe tbody tr th {\n",
       "        vertical-align: top;\n",
       "    }\n",
       "\n",
       "    .dataframe thead th {\n",
       "        text-align: right;\n",
       "    }\n",
       "</style>\n",
       "<table border=\"1\" class=\"dataframe\">\n",
       "  <thead>\n",
       "    <tr style=\"text-align: right;\">\n",
       "      <th></th>\n",
       "      <th>Symbol</th>\n",
       "      <th>PositionType</th>\n",
       "      <th>Size</th>\n",
       "      <th>EntryDate</th>\n",
       "      <th>ExitDate</th>\n",
       "      <th>EntryTime</th>\n",
       "      <th>ExitTime</th>\n",
       "      <th>TradeTime</th>\n",
       "      <th>EntryPrice</th>\n",
       "      <th>ExitPrice</th>\n",
       "      <th>...</th>\n",
       "      <th>GP</th>\n",
       "      <th>IH_PH</th>\n",
       "      <th>IL_PL</th>\n",
       "      <th>PreMarketHigh_BA_Delta</th>\n",
       "      <th>PreMarketLow_BA_Delta</th>\n",
       "      <th>PH_ba</th>\n",
       "      <th>PL_ba</th>\n",
       "      <th>DollerPerShare</th>\n",
       "      <th>Max_AllExchangesVolume_ADV_3D_Ratio</th>\n",
       "      <th>IntradayOpenCurrentGapDifPerc</th>\n",
       "    </tr>\n",
       "  </thead>\n",
       "  <tbody>\n",
       "    <tr>\n",
       "      <th>0</th>\n",
       "      <td>MU</td>\n",
       "      <td>Long</td>\n",
       "      <td>1000</td>\n",
       "      <td>20180601</td>\n",
       "      <td>20180601</td>\n",
       "      <td>09:30:25.511</td>\n",
       "      <td>09:31:00.124</td>\n",
       "      <td>00:00:34.6125240</td>\n",
       "      <td>58.90</td>\n",
       "      <td>58.918</td>\n",
       "      <td>...</td>\n",
       "      <td>GpUp</td>\n",
       "      <td>PH</td>\n",
       "      <td>PL</td>\n",
       "      <td>-8.636364</td>\n",
       "      <td>54.545455</td>\n",
       "      <td>PHd10</td>\n",
       "      <td>PLumx</td>\n",
       "      <td>9</td>\n",
       "      <td>3.3</td>\n",
       "      <td>-0.017364</td>\n",
       "    </tr>\n",
       "    <tr>\n",
       "      <th>1</th>\n",
       "      <td>SLS</td>\n",
       "      <td>Long</td>\n",
       "      <td>1000</td>\n",
       "      <td>20180601</td>\n",
       "      <td>20180601</td>\n",
       "      <td>09:30:15.393</td>\n",
       "      <td>09:31:13.318</td>\n",
       "      <td>00:00:57.9251340</td>\n",
       "      <td>6.95</td>\n",
       "      <td>6.350</td>\n",
       "      <td>...</td>\n",
       "      <td>GpUp</td>\n",
       "      <td>IH</td>\n",
       "      <td>PL</td>\n",
       "      <td>2.207358</td>\n",
       "      <td>38.929766</td>\n",
       "      <td>PHu10</td>\n",
       "      <td>PLumx</td>\n",
       "      <td>-300</td>\n",
       "      <td>2703.6</td>\n",
       "      <td>0.193050</td>\n",
       "    </tr>\n",
       "    <tr>\n",
       "      <th>2</th>\n",
       "      <td>MU</td>\n",
       "      <td>Short</td>\n",
       "      <td>-1000</td>\n",
       "      <td>20180601</td>\n",
       "      <td>20180601</td>\n",
       "      <td>09:31:44.187</td>\n",
       "      <td>09:32:26.567</td>\n",
       "      <td>00:00:42.3794710</td>\n",
       "      <td>58.55</td>\n",
       "      <td>58.546</td>\n",
       "      <td>...</td>\n",
       "      <td>GpUp</td>\n",
       "      <td>PH</td>\n",
       "      <td>PL</td>\n",
       "      <td>-27.870968</td>\n",
       "      <td>43.870968</td>\n",
       "      <td>PHdmx</td>\n",
       "      <td>PLumx</td>\n",
       "      <td>2</td>\n",
       "      <td>4.2</td>\n",
       "      <td>-0.017364</td>\n",
       "    </tr>\n",
       "    <tr>\n",
       "      <th>3</th>\n",
       "      <td>MU</td>\n",
       "      <td>Short</td>\n",
       "      <td>-1000</td>\n",
       "      <td>20180601</td>\n",
       "      <td>20180601</td>\n",
       "      <td>09:31:32.263</td>\n",
       "      <td>09:32:51.307</td>\n",
       "      <td>00:01:19.0436280</td>\n",
       "      <td>58.67</td>\n",
       "      <td>58.668</td>\n",
       "      <td>...</td>\n",
       "      <td>GpUp</td>\n",
       "      <td>PH</td>\n",
       "      <td>PL</td>\n",
       "      <td>-19.128713</td>\n",
       "      <td>44.178218</td>\n",
       "      <td>PHdmx</td>\n",
       "      <td>PLumx</td>\n",
       "      <td>1</td>\n",
       "      <td>4.1</td>\n",
       "      <td>-0.017364</td>\n",
       "    </tr>\n",
       "    <tr>\n",
       "      <th>4</th>\n",
       "      <td>MU</td>\n",
       "      <td>Short</td>\n",
       "      <td>-1000</td>\n",
       "      <td>20180601</td>\n",
       "      <td>20180601</td>\n",
       "      <td>09:31:32.263</td>\n",
       "      <td>09:32:51.307</td>\n",
       "      <td>00:01:19.0436280</td>\n",
       "      <td>58.67</td>\n",
       "      <td>58.668</td>\n",
       "      <td>...</td>\n",
       "      <td>GpUp</td>\n",
       "      <td>PH</td>\n",
       "      <td>PL</td>\n",
       "      <td>-19.128713</td>\n",
       "      <td>44.178218</td>\n",
       "      <td>PHdmx</td>\n",
       "      <td>PLumx</td>\n",
       "      <td>1</td>\n",
       "      <td>4.1</td>\n",
       "      <td>-0.017364</td>\n",
       "    </tr>\n",
       "  </tbody>\n",
       "</table>\n",
       "<p>5 rows × 188 columns</p>\n",
       "</div>"
      ],
      "text/plain": [
       "  Symbol PositionType  Size  EntryDate  ExitDate     EntryTime      ExitTime  \\\n",
       "0     MU         Long  1000   20180601  20180601  09:30:25.511  09:31:00.124   \n",
       "1    SLS         Long  1000   20180601  20180601  09:30:15.393  09:31:13.318   \n",
       "2     MU        Short -1000   20180601  20180601  09:31:44.187  09:32:26.567   \n",
       "3     MU        Short -1000   20180601  20180601  09:31:32.263  09:32:51.307   \n",
       "4     MU        Short -1000   20180601  20180601  09:31:32.263  09:32:51.307   \n",
       "\n",
       "          TradeTime  EntryPrice  ExitPrice  ...    GP  IH_PH  IL_PL  \\\n",
       "0  00:00:34.6125240       58.90     58.918  ...  GpUp     PH     PL   \n",
       "1  00:00:57.9251340        6.95      6.350  ...  GpUp     IH     PL   \n",
       "2  00:00:42.3794710       58.55     58.546  ...  GpUp     PH     PL   \n",
       "3  00:01:19.0436280       58.67     58.668  ...  GpUp     PH     PL   \n",
       "4  00:01:19.0436280       58.67     58.668  ...  GpUp     PH     PL   \n",
       "\n",
       "   PreMarketHigh_BA_Delta PreMarketLow_BA_Delta  PH_ba  PL_ba  DollerPerShare  \\\n",
       "0               -8.636364             54.545455  PHd10  PLumx               9   \n",
       "1                2.207358             38.929766  PHu10  PLumx            -300   \n",
       "2              -27.870968             43.870968  PHdmx  PLumx               2   \n",
       "3              -19.128713             44.178218  PHdmx  PLumx               1   \n",
       "4              -19.128713             44.178218  PHdmx  PLumx               1   \n",
       "\n",
       "   Max_AllExchangesVolume_ADV_3D_Ratio  IntradayOpenCurrentGapDifPerc  \n",
       "0                                  3.3                      -0.017364  \n",
       "1                               2703.6                       0.193050  \n",
       "2                                  4.2                      -0.017364  \n",
       "3                                  4.1                      -0.017364  \n",
       "4                                  4.1                      -0.017364  \n",
       "\n",
       "[5 rows x 188 columns]"
      ]
     },
     "execution_count": 6,
     "metadata": {},
     "output_type": "execute_result"
    }
   ],
   "source": [
    "df = pd.concat(map(pd.read_csv, glob.glob(\"F:/CLASS NOTES/mini project/MiniProject (1)/MiniProject/DataSet/*.csv\")))\n",
    "df.head()"
   ]
  },
  {
   "cell_type": "code",
   "execution_count": 7,
   "metadata": {},
   "outputs": [
    {
     "data": {
      "text/plain": [
       "(102373, 188)"
      ]
     },
     "execution_count": 7,
     "metadata": {},
     "output_type": "execute_result"
    }
   ],
   "source": [
    "df.shape"
   ]
  },
  {
   "cell_type": "markdown",
   "metadata": {},
   "source": [
    "# step 2: Dataframes filter functions"
   ]
  },
  {
   "cell_type": "code",
   "execution_count": 8,
   "metadata": {},
   "outputs": [
    {
     "data": {
      "text/plain": [
       "2398.7129999999997"
      ]
     },
     "execution_count": 8,
     "metadata": {},
     "output_type": "execute_result"
    }
   ],
   "source": [
    "df['EntrySeconds'].max()    # should be max 420"
   ]
  },
  {
   "cell_type": "code",
   "execution_count": 9,
   "metadata": {},
   "outputs": [
    {
     "data": {
      "text/plain": [
       "array(['Long', 'Short'], dtype=object)"
      ]
     },
     "execution_count": 9,
     "metadata": {},
     "output_type": "execute_result"
    }
   ],
   "source": [
    "df['PositionType'].unique()    # should be short only"
   ]
  },
  {
   "cell_type": "code",
   "execution_count": 10,
   "metadata": {},
   "outputs": [
    {
     "data": {
      "text/plain": [
       "22610"
      ]
     },
     "execution_count": 10,
     "metadata": {},
     "output_type": "execute_result"
    }
   ],
   "source": [
    "df['Float'].min()   # should be 0"
   ]
  },
  {
   "cell_type": "code",
   "execution_count": 11,
   "metadata": {},
   "outputs": [
    {
     "data": {
      "text/plain": [
       "4350000000"
      ]
     },
     "execution_count": 11,
     "metadata": {},
     "output_type": "execute_result"
    }
   ],
   "source": [
    "df['Float'].max()   # condition shoud be 500000000"
   ]
  },
  {
   "cell_type": "code",
   "execution_count": 12,
   "metadata": {},
   "outputs": [
    {
     "data": {
      "text/plain": [
       "673.0"
      ]
     },
     "execution_count": 12,
     "metadata": {},
     "output_type": "execute_result"
    }
   ],
   "source": [
    "df['EntryPrice'].max()    # should be 180"
   ]
  },
  {
   "cell_type": "code",
   "execution_count": 13,
   "metadata": {},
   "outputs": [
    {
     "data": {
      "text/plain": [
       "1.0"
      ]
     },
     "execution_count": 13,
     "metadata": {},
     "output_type": "execute_result"
    }
   ],
   "source": [
    "df['EntryPrice'].min()   # should be 20"
   ]
  },
  {
   "cell_type": "code",
   "execution_count": 14,
   "metadata": {},
   "outputs": [],
   "source": [
    "df1 = df[(df['EntrySeconds']<420) & (df['PositionType'] == 'Short') & \n",
    "         (df['Float']>0) & (df['Float']<500000000) & \n",
    "         (df['EntryPrice']>20) & (df['EntryPrice']<180)]"
   ]
  },
  {
   "cell_type": "code",
   "execution_count": 15,
   "metadata": {},
   "outputs": [
    {
     "name": "stdout",
     "output_type": "stream",
     "text": [
      "<class 'pandas.core.frame.DataFrame'>\n",
      "Int64Index: 10600 entries, 10 to 28840\n",
      "Columns: 188 entries, Symbol to IntradayOpenCurrentGapDifPerc\n",
      "dtypes: bool(2), float64(83), int64(29), object(74)\n",
      "memory usage: 15.1+ MB\n"
     ]
    }
   ],
   "source": [
    "df1.info()"
   ]
  },
  {
   "cell_type": "code",
   "execution_count": 16,
   "metadata": {},
   "outputs": [
    {
     "data": {
      "text/html": [
       "<div>\n",
       "<style scoped>\n",
       "    .dataframe tbody tr th:only-of-type {\n",
       "        vertical-align: middle;\n",
       "    }\n",
       "\n",
       "    .dataframe tbody tr th {\n",
       "        vertical-align: top;\n",
       "    }\n",
       "\n",
       "    .dataframe thead th {\n",
       "        text-align: right;\n",
       "    }\n",
       "</style>\n",
       "<table border=\"1\" class=\"dataframe\">\n",
       "  <thead>\n",
       "    <tr style=\"text-align: right;\">\n",
       "      <th></th>\n",
       "      <th>Symbol</th>\n",
       "      <th>PositionType</th>\n",
       "      <th>Size</th>\n",
       "      <th>EntryDate</th>\n",
       "      <th>ExitDate</th>\n",
       "      <th>EntryTime</th>\n",
       "      <th>ExitTime</th>\n",
       "      <th>TradeTime</th>\n",
       "      <th>EntryPrice</th>\n",
       "      <th>ExitPrice</th>\n",
       "      <th>...</th>\n",
       "      <th>GP</th>\n",
       "      <th>IH_PH</th>\n",
       "      <th>IL_PL</th>\n",
       "      <th>PreMarketHigh_BA_Delta</th>\n",
       "      <th>PreMarketLow_BA_Delta</th>\n",
       "      <th>PH_ba</th>\n",
       "      <th>PL_ba</th>\n",
       "      <th>DollerPerShare</th>\n",
       "      <th>Max_AllExchangesVolume_ADV_3D_Ratio</th>\n",
       "      <th>IntradayOpenCurrentGapDifPerc</th>\n",
       "    </tr>\n",
       "  </thead>\n",
       "  <tbody>\n",
       "    <tr>\n",
       "      <th>10</th>\n",
       "      <td>ANF</td>\n",
       "      <td>Short</td>\n",
       "      <td>-1000</td>\n",
       "      <td>20180601</td>\n",
       "      <td>20180601</td>\n",
       "      <td>09:33:41.107</td>\n",
       "      <td>09:34:09.560</td>\n",
       "      <td>00:00:28.4533280</td>\n",
       "      <td>22.13</td>\n",
       "      <td>21.958</td>\n",
       "      <td>...</td>\n",
       "      <td>GpDn</td>\n",
       "      <td>PH</td>\n",
       "      <td>IL</td>\n",
       "      <td>-54.968553</td>\n",
       "      <td>-2.012579</td>\n",
       "      <td>PHdmx</td>\n",
       "      <td>PLd10</td>\n",
       "      <td>86</td>\n",
       "      <td>63.4</td>\n",
       "      <td>0.209293</td>\n",
       "    </tr>\n",
       "    <tr>\n",
       "      <th>11</th>\n",
       "      <td>ANF</td>\n",
       "      <td>Short</td>\n",
       "      <td>-1000</td>\n",
       "      <td>20180601</td>\n",
       "      <td>20180601</td>\n",
       "      <td>09:33:41.107</td>\n",
       "      <td>09:34:09.560</td>\n",
       "      <td>00:00:28.4533280</td>\n",
       "      <td>22.13</td>\n",
       "      <td>21.958</td>\n",
       "      <td>...</td>\n",
       "      <td>GpDn</td>\n",
       "      <td>PH</td>\n",
       "      <td>IL</td>\n",
       "      <td>-54.968553</td>\n",
       "      <td>-2.012579</td>\n",
       "      <td>PHdmx</td>\n",
       "      <td>PLd10</td>\n",
       "      <td>86</td>\n",
       "      <td>63.4</td>\n",
       "      <td>0.209293</td>\n",
       "    </tr>\n",
       "    <tr>\n",
       "      <th>14</th>\n",
       "      <td>FTI</td>\n",
       "      <td>Short</td>\n",
       "      <td>-1000</td>\n",
       "      <td>20180601</td>\n",
       "      <td>20180601</td>\n",
       "      <td>09:32:45.780</td>\n",
       "      <td>09:35:00.029</td>\n",
       "      <td>00:02:14.2488710</td>\n",
       "      <td>31.92</td>\n",
       "      <td>31.902</td>\n",
       "      <td>...</td>\n",
       "      <td>GpUp</td>\n",
       "      <td>PH</td>\n",
       "      <td>PL</td>\n",
       "      <td>-24.590164</td>\n",
       "      <td>1.639344</td>\n",
       "      <td>PHdmx</td>\n",
       "      <td>PLu10</td>\n",
       "      <td>9</td>\n",
       "      <td>9.7</td>\n",
       "      <td>0.160514</td>\n",
       "    </tr>\n",
       "    <tr>\n",
       "      <th>16</th>\n",
       "      <td>FTI</td>\n",
       "      <td>Short</td>\n",
       "      <td>-1000</td>\n",
       "      <td>20180601</td>\n",
       "      <td>20180601</td>\n",
       "      <td>09:32:59.857</td>\n",
       "      <td>09:35:09.384</td>\n",
       "      <td>00:02:09.5274150</td>\n",
       "      <td>31.82</td>\n",
       "      <td>32.040</td>\n",
       "      <td>...</td>\n",
       "      <td>GpUp</td>\n",
       "      <td>PH</td>\n",
       "      <td>IL</td>\n",
       "      <td>-30.306122</td>\n",
       "      <td>-3.857143</td>\n",
       "      <td>PHdmx</td>\n",
       "      <td>PLd10</td>\n",
       "      <td>-110</td>\n",
       "      <td>10.0</td>\n",
       "      <td>0.160514</td>\n",
       "    </tr>\n",
       "    <tr>\n",
       "      <th>31</th>\n",
       "      <td>BIG</td>\n",
       "      <td>Short</td>\n",
       "      <td>-1000</td>\n",
       "      <td>20180601</td>\n",
       "      <td>20180601</td>\n",
       "      <td>09:36:02.263</td>\n",
       "      <td>09:42:39.132</td>\n",
       "      <td>00:06:36.8692150</td>\n",
       "      <td>36.56</td>\n",
       "      <td>36.624</td>\n",
       "      <td>...</td>\n",
       "      <td>GpDn</td>\n",
       "      <td>PH</td>\n",
       "      <td>PL</td>\n",
       "      <td>-118.703390</td>\n",
       "      <td>8.186441</td>\n",
       "      <td>PHdmx</td>\n",
       "      <td>PLu10</td>\n",
       "      <td>-32</td>\n",
       "      <td>101.7</td>\n",
       "      <td>0.097680</td>\n",
       "    </tr>\n",
       "  </tbody>\n",
       "</table>\n",
       "<p>5 rows × 188 columns</p>\n",
       "</div>"
      ],
      "text/plain": [
       "   Symbol PositionType  Size  EntryDate  ExitDate     EntryTime      ExitTime  \\\n",
       "10    ANF        Short -1000   20180601  20180601  09:33:41.107  09:34:09.560   \n",
       "11    ANF        Short -1000   20180601  20180601  09:33:41.107  09:34:09.560   \n",
       "14    FTI        Short -1000   20180601  20180601  09:32:45.780  09:35:00.029   \n",
       "16    FTI        Short -1000   20180601  20180601  09:32:59.857  09:35:09.384   \n",
       "31    BIG        Short -1000   20180601  20180601  09:36:02.263  09:42:39.132   \n",
       "\n",
       "           TradeTime  EntryPrice  ExitPrice  ...    GP  IH_PH  IL_PL  \\\n",
       "10  00:00:28.4533280       22.13     21.958  ...  GpDn     PH     IL   \n",
       "11  00:00:28.4533280       22.13     21.958  ...  GpDn     PH     IL   \n",
       "14  00:02:14.2488710       31.92     31.902  ...  GpUp     PH     PL   \n",
       "16  00:02:09.5274150       31.82     32.040  ...  GpUp     PH     IL   \n",
       "31  00:06:36.8692150       36.56     36.624  ...  GpDn     PH     PL   \n",
       "\n",
       "    PreMarketHigh_BA_Delta PreMarketLow_BA_Delta  PH_ba  PL_ba  \\\n",
       "10              -54.968553             -2.012579  PHdmx  PLd10   \n",
       "11              -54.968553             -2.012579  PHdmx  PLd10   \n",
       "14              -24.590164              1.639344  PHdmx  PLu10   \n",
       "16              -30.306122             -3.857143  PHdmx  PLd10   \n",
       "31             -118.703390              8.186441  PHdmx  PLu10   \n",
       "\n",
       "    DollerPerShare  Max_AllExchangesVolume_ADV_3D_Ratio  \\\n",
       "10              86                                 63.4   \n",
       "11              86                                 63.4   \n",
       "14               9                                  9.7   \n",
       "16            -110                                 10.0   \n",
       "31             -32                                101.7   \n",
       "\n",
       "    IntradayOpenCurrentGapDifPerc  \n",
       "10                       0.209293  \n",
       "11                       0.209293  \n",
       "14                       0.160514  \n",
       "16                       0.160514  \n",
       "31                       0.097680  \n",
       "\n",
       "[5 rows x 188 columns]"
      ]
     },
     "execution_count": 16,
     "metadata": {},
     "output_type": "execute_result"
    }
   ],
   "source": [
    "df1.head()"
   ]
  },
  {
   "cell_type": "code",
   "execution_count": 17,
   "metadata": {},
   "outputs": [
    {
     "data": {
      "text/plain": [
       "(10600, 188)"
      ]
     },
     "execution_count": 17,
     "metadata": {},
     "output_type": "execute_result"
    }
   ],
   "source": [
    "df1.shape"
   ]
  },
  {
   "cell_type": "code",
   "execution_count": null,
   "metadata": {},
   "outputs": [],
   "source": []
  },
  {
   "cell_type": "markdown",
   "metadata": {},
   "source": [
    "# Step 3: Heatmap"
   ]
  },
  {
   "cell_type": "code",
   "execution_count": 18,
   "metadata": {},
   "outputs": [],
   "source": [
    "import matplotlib.pyplot as plt\n",
    "import seaborn as sns"
   ]
  },
  {
   "cell_type": "code",
   "execution_count": 19,
   "metadata": {},
   "outputs": [
    {
     "data": {
      "text/html": [
       "<div>\n",
       "<style scoped>\n",
       "    .dataframe tbody tr th:only-of-type {\n",
       "        vertical-align: middle;\n",
       "    }\n",
       "\n",
       "    .dataframe tbody tr th {\n",
       "        vertical-align: top;\n",
       "    }\n",
       "\n",
       "    .dataframe thead th {\n",
       "        text-align: right;\n",
       "    }\n",
       "</style>\n",
       "<table border=\"1\" class=\"dataframe\">\n",
       "  <thead>\n",
       "    <tr style=\"text-align: right;\">\n",
       "      <th></th>\n",
       "      <th>EntrySeconds</th>\n",
       "      <th>Float</th>\n",
       "      <th>Vol1MinRatioMaxPD123</th>\n",
       "      <th>Vol1MinRatioMaxPD123_TotalVolume</th>\n",
       "      <th>AllExchangesVolume</th>\n",
       "      <th>IntradayCurrentMarketGapPerc</th>\n",
       "      <th>Fund52WeekChange</th>\n",
       "      <th>FundShortRatio</th>\n",
       "      <th>FundShortPercofFloat</th>\n",
       "    </tr>\n",
       "  </thead>\n",
       "  <tbody>\n",
       "    <tr>\n",
       "      <th>10</th>\n",
       "      <td>221.107</td>\n",
       "      <td>65920000</td>\n",
       "      <td>24.0</td>\n",
       "      <td>1260153</td>\n",
       "      <td>1368764</td>\n",
       "      <td>-4.981164</td>\n",
       "      <td>-31.22%</td>\n",
       "      <td>7.33</td>\n",
       "      <td>30.60</td>\n",
       "    </tr>\n",
       "    <tr>\n",
       "      <th>11</th>\n",
       "      <td>221.107</td>\n",
       "      <td>65920000</td>\n",
       "      <td>24.0</td>\n",
       "      <td>1260153</td>\n",
       "      <td>1368764</td>\n",
       "      <td>-4.981164</td>\n",
       "      <td>-31.22%</td>\n",
       "      <td>7.33</td>\n",
       "      <td>30.60</td>\n",
       "    </tr>\n",
       "    <tr>\n",
       "      <th>14</th>\n",
       "      <td>165.780</td>\n",
       "      <td>421140000</td>\n",
       "      <td>1.6</td>\n",
       "      <td>194735</td>\n",
       "      <td>286883</td>\n",
       "      <td>3.370787</td>\n",
       "      <td>-32.72%</td>\n",
       "      <td>2.79</td>\n",
       "      <td>2.34</td>\n",
       "    </tr>\n",
       "    <tr>\n",
       "      <th>16</th>\n",
       "      <td>179.857</td>\n",
       "      <td>421140000</td>\n",
       "      <td>1.6</td>\n",
       "      <td>194735</td>\n",
       "      <td>297444</td>\n",
       "      <td>3.370787</td>\n",
       "      <td>-32.72%</td>\n",
       "      <td>2.79</td>\n",
       "      <td>2.34</td>\n",
       "    </tr>\n",
       "    <tr>\n",
       "      <th>31</th>\n",
       "      <td>362.263</td>\n",
       "      <td>39750000</td>\n",
       "      <td>50.0</td>\n",
       "      <td>735074</td>\n",
       "      <td>1199885</td>\n",
       "      <td>-10.036630</td>\n",
       "      <td>-36.29%</td>\n",
       "      <td>7.64</td>\n",
       "      <td>21.41</td>\n",
       "    </tr>\n",
       "  </tbody>\n",
       "</table>\n",
       "</div>"
      ],
      "text/plain": [
       "    EntrySeconds      Float  Vol1MinRatioMaxPD123  \\\n",
       "10       221.107   65920000                  24.0   \n",
       "11       221.107   65920000                  24.0   \n",
       "14       165.780  421140000                   1.6   \n",
       "16       179.857  421140000                   1.6   \n",
       "31       362.263   39750000                  50.0   \n",
       "\n",
       "    Vol1MinRatioMaxPD123_TotalVolume  AllExchangesVolume  \\\n",
       "10                           1260153             1368764   \n",
       "11                           1260153             1368764   \n",
       "14                            194735              286883   \n",
       "16                            194735              297444   \n",
       "31                            735074             1199885   \n",
       "\n",
       "    IntradayCurrentMarketGapPerc Fund52WeekChange  FundShortRatio  \\\n",
       "10                     -4.981164          -31.22%            7.33   \n",
       "11                     -4.981164          -31.22%            7.33   \n",
       "14                      3.370787          -32.72%            2.79   \n",
       "16                      3.370787          -32.72%            2.79   \n",
       "31                    -10.036630          -36.29%            7.64   \n",
       "\n",
       "    FundShortPercofFloat  \n",
       "10                 30.60  \n",
       "11                 30.60  \n",
       "14                  2.34  \n",
       "16                  2.34  \n",
       "31                 21.41  "
      ]
     },
     "execution_count": 19,
     "metadata": {},
     "output_type": "execute_result"
    }
   ],
   "source": [
    "X = df1[['EntrySeconds','Float','Vol1MinRatioMaxPD123','Vol1MinRatioMaxPD123_TotalVolume','AllExchangesVolume',\n",
    "         'IntradayCurrentMarketGapPerc','Fund52WeekChange','FundShortRatio','FundShortPercofFloat']]\n",
    "X.head()"
   ]
  },
  {
   "cell_type": "code",
   "execution_count": 20,
   "metadata": {},
   "outputs": [
    {
     "name": "stdout",
     "output_type": "stream",
     "text": [
      "<class 'pandas.core.frame.DataFrame'>\n",
      "Int64Index: 10600 entries, 10 to 28840\n",
      "Data columns (total 9 columns):\n",
      "EntrySeconds                        10600 non-null float64\n",
      "Float                               10600 non-null int64\n",
      "Vol1MinRatioMaxPD123                10600 non-null float64\n",
      "Vol1MinRatioMaxPD123_TotalVolume    10600 non-null int64\n",
      "AllExchangesVolume                  10600 non-null int64\n",
      "IntradayCurrentMarketGapPerc        10600 non-null float64\n",
      "Fund52WeekChange                    10600 non-null object\n",
      "FundShortRatio                      10600 non-null float64\n",
      "FundShortPercofFloat                10600 non-null float64\n",
      "dtypes: float64(5), int64(3), object(1)\n",
      "memory usage: 828.1+ KB\n"
     ]
    }
   ],
   "source": [
    "X.info()"
   ]
  },
  {
   "cell_type": "code",
   "execution_count": 21,
   "metadata": {},
   "outputs": [
    {
     "name": "stderr",
     "output_type": "stream",
     "text": [
      "C:\\ProgramData\\Anaconda3\\lib\\site-packages\\ipykernel_launcher.py:1: SettingWithCopyWarning: \n",
      "A value is trying to be set on a copy of a slice from a DataFrame.\n",
      "Try using .loc[row_indexer,col_indexer] = value instead\n",
      "\n",
      "See the caveats in the documentation: http://pandas.pydata.org/pandas-docs/stable/indexing.html#indexing-view-versus-copy\n",
      "  \"\"\"Entry point for launching an IPython kernel.\n"
     ]
    }
   ],
   "source": [
    "X['Float'] = X.Float.astype(float)"
   ]
  },
  {
   "cell_type": "code",
   "execution_count": 22,
   "metadata": {},
   "outputs": [
    {
     "name": "stderr",
     "output_type": "stream",
     "text": [
      "C:\\ProgramData\\Anaconda3\\lib\\site-packages\\ipykernel_launcher.py:1: SettingWithCopyWarning: \n",
      "A value is trying to be set on a copy of a slice from a DataFrame.\n",
      "Try using .loc[row_indexer,col_indexer] = value instead\n",
      "\n",
      "See the caveats in the documentation: http://pandas.pydata.org/pandas-docs/stable/indexing.html#indexing-view-versus-copy\n",
      "  \"\"\"Entry point for launching an IPython kernel.\n"
     ]
    }
   ],
   "source": [
    "X['AllExchangesVolume'] = X.AllExchangesVolume.astype(float)"
   ]
  },
  {
   "cell_type": "code",
   "execution_count": 23,
   "metadata": {},
   "outputs": [
    {
     "name": "stderr",
     "output_type": "stream",
     "text": [
      "C:\\ProgramData\\Anaconda3\\lib\\site-packages\\ipykernel_launcher.py:1: SettingWithCopyWarning: \n",
      "A value is trying to be set on a copy of a slice from a DataFrame.\n",
      "Try using .loc[row_indexer,col_indexer] = value instead\n",
      "\n",
      "See the caveats in the documentation: http://pandas.pydata.org/pandas-docs/stable/indexing.html#indexing-view-versus-copy\n",
      "  \"\"\"Entry point for launching an IPython kernel.\n"
     ]
    }
   ],
   "source": [
    "X['Vol1MinRatioMaxPD123_TotalVolume'] = X.Vol1MinRatioMaxPD123_TotalVolume.astype(float)"
   ]
  },
  {
   "cell_type": "code",
   "execution_count": 24,
   "metadata": {},
   "outputs": [
    {
     "name": "stderr",
     "output_type": "stream",
     "text": [
      "C:\\ProgramData\\Anaconda3\\lib\\site-packages\\ipykernel_launcher.py:1: SettingWithCopyWarning: \n",
      "A value is trying to be set on a copy of a slice from a DataFrame.\n",
      "Try using .loc[row_indexer,col_indexer] = value instead\n",
      "\n",
      "See the caveats in the documentation: http://pandas.pydata.org/pandas-docs/stable/indexing.html#indexing-view-versus-copy\n",
      "  \"\"\"Entry point for launching an IPython kernel.\n"
     ]
    }
   ],
   "source": [
    "X['Fund52WeekChange'] = X['Fund52WeekChange'].str.replace('%','')"
   ]
  },
  {
   "cell_type": "code",
   "execution_count": 25,
   "metadata": {},
   "outputs": [
    {
     "name": "stderr",
     "output_type": "stream",
     "text": [
      "C:\\ProgramData\\Anaconda3\\lib\\site-packages\\ipykernel_launcher.py:2: SettingWithCopyWarning: \n",
      "A value is trying to be set on a copy of a slice from a DataFrame.\n",
      "Try using .loc[row_indexer,col_indexer] = value instead\n",
      "\n",
      "See the caveats in the documentation: http://pandas.pydata.org/pandas-docs/stable/indexing.html#indexing-view-versus-copy\n",
      "  \n"
     ]
    }
   ],
   "source": [
    "for Fund52WeekChange in X:\n",
    "    X['Fund52WeekChange'] = pd.to_numeric(X['Fund52WeekChange'], errors='coerce')"
   ]
  },
  {
   "cell_type": "code",
   "execution_count": 26,
   "metadata": {},
   "outputs": [
    {
     "data": {
      "text/html": [
       "<div>\n",
       "<style scoped>\n",
       "    .dataframe tbody tr th:only-of-type {\n",
       "        vertical-align: middle;\n",
       "    }\n",
       "\n",
       "    .dataframe tbody tr th {\n",
       "        vertical-align: top;\n",
       "    }\n",
       "\n",
       "    .dataframe thead th {\n",
       "        text-align: right;\n",
       "    }\n",
       "</style>\n",
       "<table border=\"1\" class=\"dataframe\">\n",
       "  <thead>\n",
       "    <tr style=\"text-align: right;\">\n",
       "      <th></th>\n",
       "      <th>EntrySeconds</th>\n",
       "      <th>Float</th>\n",
       "      <th>Vol1MinRatioMaxPD123</th>\n",
       "      <th>Vol1MinRatioMaxPD123_TotalVolume</th>\n",
       "      <th>AllExchangesVolume</th>\n",
       "      <th>IntradayCurrentMarketGapPerc</th>\n",
       "      <th>Fund52WeekChange</th>\n",
       "      <th>FundShortRatio</th>\n",
       "      <th>FundShortPercofFloat</th>\n",
       "    </tr>\n",
       "  </thead>\n",
       "  <tbody>\n",
       "    <tr>\n",
       "      <th>10</th>\n",
       "      <td>221.107</td>\n",
       "      <td>65920000.0</td>\n",
       "      <td>24.0</td>\n",
       "      <td>1260153.0</td>\n",
       "      <td>1368764.0</td>\n",
       "      <td>-4.981164</td>\n",
       "      <td>-31.22</td>\n",
       "      <td>7.33</td>\n",
       "      <td>30.60</td>\n",
       "    </tr>\n",
       "    <tr>\n",
       "      <th>11</th>\n",
       "      <td>221.107</td>\n",
       "      <td>65920000.0</td>\n",
       "      <td>24.0</td>\n",
       "      <td>1260153.0</td>\n",
       "      <td>1368764.0</td>\n",
       "      <td>-4.981164</td>\n",
       "      <td>-31.22</td>\n",
       "      <td>7.33</td>\n",
       "      <td>30.60</td>\n",
       "    </tr>\n",
       "    <tr>\n",
       "      <th>14</th>\n",
       "      <td>165.780</td>\n",
       "      <td>421140000.0</td>\n",
       "      <td>1.6</td>\n",
       "      <td>194735.0</td>\n",
       "      <td>286883.0</td>\n",
       "      <td>3.370787</td>\n",
       "      <td>-32.72</td>\n",
       "      <td>2.79</td>\n",
       "      <td>2.34</td>\n",
       "    </tr>\n",
       "    <tr>\n",
       "      <th>16</th>\n",
       "      <td>179.857</td>\n",
       "      <td>421140000.0</td>\n",
       "      <td>1.6</td>\n",
       "      <td>194735.0</td>\n",
       "      <td>297444.0</td>\n",
       "      <td>3.370787</td>\n",
       "      <td>-32.72</td>\n",
       "      <td>2.79</td>\n",
       "      <td>2.34</td>\n",
       "    </tr>\n",
       "    <tr>\n",
       "      <th>31</th>\n",
       "      <td>362.263</td>\n",
       "      <td>39750000.0</td>\n",
       "      <td>50.0</td>\n",
       "      <td>735074.0</td>\n",
       "      <td>1199885.0</td>\n",
       "      <td>-10.036630</td>\n",
       "      <td>-36.29</td>\n",
       "      <td>7.64</td>\n",
       "      <td>21.41</td>\n",
       "    </tr>\n",
       "  </tbody>\n",
       "</table>\n",
       "</div>"
      ],
      "text/plain": [
       "    EntrySeconds        Float  Vol1MinRatioMaxPD123  \\\n",
       "10       221.107   65920000.0                  24.0   \n",
       "11       221.107   65920000.0                  24.0   \n",
       "14       165.780  421140000.0                   1.6   \n",
       "16       179.857  421140000.0                   1.6   \n",
       "31       362.263   39750000.0                  50.0   \n",
       "\n",
       "    Vol1MinRatioMaxPD123_TotalVolume  AllExchangesVolume  \\\n",
       "10                         1260153.0           1368764.0   \n",
       "11                         1260153.0           1368764.0   \n",
       "14                          194735.0            286883.0   \n",
       "16                          194735.0            297444.0   \n",
       "31                          735074.0           1199885.0   \n",
       "\n",
       "    IntradayCurrentMarketGapPerc  Fund52WeekChange  FundShortRatio  \\\n",
       "10                     -4.981164            -31.22            7.33   \n",
       "11                     -4.981164            -31.22            7.33   \n",
       "14                      3.370787            -32.72            2.79   \n",
       "16                      3.370787            -32.72            2.79   \n",
       "31                    -10.036630            -36.29            7.64   \n",
       "\n",
       "    FundShortPercofFloat  \n",
       "10                 30.60  \n",
       "11                 30.60  \n",
       "14                  2.34  \n",
       "16                  2.34  \n",
       "31                 21.41  "
      ]
     },
     "execution_count": 26,
     "metadata": {},
     "output_type": "execute_result"
    }
   ],
   "source": [
    "X.head()"
   ]
  },
  {
   "cell_type": "code",
   "execution_count": 27,
   "metadata": {},
   "outputs": [
    {
     "data": {
      "text/plain": [
       "EntrySeconds                        float64\n",
       "Float                               float64\n",
       "Vol1MinRatioMaxPD123                float64\n",
       "Vol1MinRatioMaxPD123_TotalVolume    float64\n",
       "AllExchangesVolume                  float64\n",
       "IntradayCurrentMarketGapPerc        float64\n",
       "Fund52WeekChange                    float64\n",
       "FundShortRatio                      float64\n",
       "FundShortPercofFloat                float64\n",
       "dtype: object"
      ]
     },
     "execution_count": 27,
     "metadata": {},
     "output_type": "execute_result"
    }
   ],
   "source": [
    "X.dtypes"
   ]
  },
  {
   "cell_type": "code",
   "execution_count": 28,
   "metadata": {},
   "outputs": [
    {
     "data": {
      "text/plain": [
       "(array([  298,   506,   719, ..., 10579, 10582, 10585], dtype=int64),\n",
       " array([6, 6, 6, ..., 6, 6, 6], dtype=int64))"
      ]
     },
     "execution_count": 28,
     "metadata": {},
     "output_type": "execute_result"
    }
   ],
   "source": [
    "np.where(X.isna())"
   ]
  },
  {
   "cell_type": "code",
   "execution_count": 29,
   "metadata": {},
   "outputs": [
    {
     "data": {
      "text/plain": [
       "EntrySeconds                        False\n",
       "Float                               False\n",
       "Vol1MinRatioMaxPD123                False\n",
       "Vol1MinRatioMaxPD123_TotalVolume    False\n",
       "AllExchangesVolume                  False\n",
       "IntradayCurrentMarketGapPerc        False\n",
       "Fund52WeekChange                     True\n",
       "FundShortRatio                      False\n",
       "FundShortPercofFloat                False\n",
       "dtype: bool"
      ]
     },
     "execution_count": 29,
     "metadata": {},
     "output_type": "execute_result"
    }
   ],
   "source": [
    "col_mask = X.isnull().any(axis=0)\n",
    "col_mask"
   ]
  },
  {
   "cell_type": "code",
   "execution_count": 30,
   "metadata": {},
   "outputs": [],
   "source": [
    "row_mask = X.isnull().any(axis=1)\n"
   ]
  },
  {
   "cell_type": "code",
   "execution_count": 31,
   "metadata": {},
   "outputs": [],
   "source": [
    "X1 = X.fillna(X['Fund52WeekChange'].mean())"
   ]
  },
  {
   "cell_type": "code",
   "execution_count": 32,
   "metadata": {},
   "outputs": [
    {
     "data": {
      "text/html": [
       "<div>\n",
       "<style scoped>\n",
       "    .dataframe tbody tr th:only-of-type {\n",
       "        vertical-align: middle;\n",
       "    }\n",
       "\n",
       "    .dataframe tbody tr th {\n",
       "        vertical-align: top;\n",
       "    }\n",
       "\n",
       "    .dataframe thead th {\n",
       "        text-align: right;\n",
       "    }\n",
       "</style>\n",
       "<table border=\"1\" class=\"dataframe\">\n",
       "  <thead>\n",
       "    <tr style=\"text-align: right;\">\n",
       "      <th></th>\n",
       "      <th>PercentageProfit</th>\n",
       "      <th>WinTrade</th>\n",
       "    </tr>\n",
       "  </thead>\n",
       "  <tbody>\n",
       "    <tr>\n",
       "      <th>10</th>\n",
       "      <td>0.003901</td>\n",
       "      <td>1</td>\n",
       "    </tr>\n",
       "    <tr>\n",
       "      <th>11</th>\n",
       "      <td>0.003901</td>\n",
       "      <td>1</td>\n",
       "    </tr>\n",
       "    <tr>\n",
       "      <th>14</th>\n",
       "      <td>0.000282</td>\n",
       "      <td>1</td>\n",
       "    </tr>\n",
       "    <tr>\n",
       "      <th>16</th>\n",
       "      <td>-0.003445</td>\n",
       "      <td>0</td>\n",
       "    </tr>\n",
       "    <tr>\n",
       "      <th>31</th>\n",
       "      <td>-0.000875</td>\n",
       "      <td>0</td>\n",
       "    </tr>\n",
       "  </tbody>\n",
       "</table>\n",
       "</div>"
      ],
      "text/plain": [
       "    PercentageProfit  WinTrade\n",
       "10          0.003901         1\n",
       "11          0.003901         1\n",
       "14          0.000282         1\n",
       "16         -0.003445         0\n",
       "31         -0.000875         0"
      ]
     },
     "execution_count": 32,
     "metadata": {},
     "output_type": "execute_result"
    }
   ],
   "source": [
    "Y = df1[['PercentageProfit','WinTrade']]\n",
    "Y.head()"
   ]
  },
  {
   "cell_type": "code",
   "execution_count": 33,
   "metadata": {},
   "outputs": [
    {
     "data": {
      "text/html": [
       "<div>\n",
       "<style scoped>\n",
       "    .dataframe tbody tr th:only-of-type {\n",
       "        vertical-align: middle;\n",
       "    }\n",
       "\n",
       "    .dataframe tbody tr th {\n",
       "        vertical-align: top;\n",
       "    }\n",
       "\n",
       "    .dataframe thead th {\n",
       "        text-align: right;\n",
       "    }\n",
       "</style>\n",
       "<table border=\"1\" class=\"dataframe\">\n",
       "  <thead>\n",
       "    <tr style=\"text-align: right;\">\n",
       "      <th></th>\n",
       "      <th>PercentageProfit</th>\n",
       "    </tr>\n",
       "  </thead>\n",
       "  <tbody>\n",
       "    <tr>\n",
       "      <th>10</th>\n",
       "      <td>0.003901</td>\n",
       "    </tr>\n",
       "    <tr>\n",
       "      <th>11</th>\n",
       "      <td>0.003901</td>\n",
       "    </tr>\n",
       "    <tr>\n",
       "      <th>14</th>\n",
       "      <td>0.000282</td>\n",
       "    </tr>\n",
       "    <tr>\n",
       "      <th>16</th>\n",
       "      <td>-0.003445</td>\n",
       "    </tr>\n",
       "    <tr>\n",
       "      <th>31</th>\n",
       "      <td>-0.000875</td>\n",
       "    </tr>\n",
       "  </tbody>\n",
       "</table>\n",
       "</div>"
      ],
      "text/plain": [
       "    PercentageProfit\n",
       "10          0.003901\n",
       "11          0.003901\n",
       "14          0.000282\n",
       "16         -0.003445\n",
       "31         -0.000875"
      ]
     },
     "execution_count": 33,
     "metadata": {},
     "output_type": "execute_result"
    }
   ],
   "source": [
    "Y1 =df1[['PercentageProfit']]\n",
    "Y1 = Y1.fillna(Y1.mean())\n",
    "Y1.head()\n"
   ]
  },
  {
   "cell_type": "code",
   "execution_count": 34,
   "metadata": {},
   "outputs": [
    {
     "data": {
      "text/html": [
       "<div>\n",
       "<style scoped>\n",
       "    .dataframe tbody tr th:only-of-type {\n",
       "        vertical-align: middle;\n",
       "    }\n",
       "\n",
       "    .dataframe tbody tr th {\n",
       "        vertical-align: top;\n",
       "    }\n",
       "\n",
       "    .dataframe thead th {\n",
       "        text-align: right;\n",
       "    }\n",
       "</style>\n",
       "<table border=\"1\" class=\"dataframe\">\n",
       "  <thead>\n",
       "    <tr style=\"text-align: right;\">\n",
       "      <th></th>\n",
       "      <th>WinTrade</th>\n",
       "    </tr>\n",
       "  </thead>\n",
       "  <tbody>\n",
       "    <tr>\n",
       "      <th>10</th>\n",
       "      <td>1</td>\n",
       "    </tr>\n",
       "    <tr>\n",
       "      <th>11</th>\n",
       "      <td>1</td>\n",
       "    </tr>\n",
       "    <tr>\n",
       "      <th>14</th>\n",
       "      <td>1</td>\n",
       "    </tr>\n",
       "    <tr>\n",
       "      <th>16</th>\n",
       "      <td>0</td>\n",
       "    </tr>\n",
       "    <tr>\n",
       "      <th>31</th>\n",
       "      <td>0</td>\n",
       "    </tr>\n",
       "  </tbody>\n",
       "</table>\n",
       "</div>"
      ],
      "text/plain": [
       "    WinTrade\n",
       "10         1\n",
       "11         1\n",
       "14         1\n",
       "16         0\n",
       "31         0"
      ]
     },
     "execution_count": 34,
     "metadata": {},
     "output_type": "execute_result"
    }
   ],
   "source": [
    "Y2 = df1[['WinTrade']]\n",
    "Y2.head()"
   ]
  },
  {
   "cell_type": "code",
   "execution_count": 35,
   "metadata": {},
   "outputs": [],
   "source": [
    "Z = df1[['EntrySeconds','Float','Vol1MinRatioMaxPD123','Vol1MinRatioMaxPD123_TotalVolume','AllExchangesVolume',\n",
    "         'IntradayCurrentMarketGapPerc','Fund52WeekChange','FundShortRatio','FundShortPercofFloat']]\n"
   ]
  },
  {
   "cell_type": "code",
   "execution_count": 36,
   "metadata": {},
   "outputs": [
    {
     "data": {
      "image/png": "[encoded data removed]",
      "text/plain": [
       "<Figure size 432x432 with 2 Axes>"
      ]
     },
     "metadata": {
      "needs_background": "light"
     },
     "output_type": "display_data"
    }
   ],
   "source": [
    "plt.figure(figsize=(6,6))\n",
    "heat = Z.corr()\n",
    "sns.heatmap(heat, annot=True)\n",
    "plt.show()"
   ]
  },
  {
   "cell_type": "markdown",
   "metadata": {},
   "source": [
    "# Step 4: Regression Model(Y1)"
   ]
  },
  {
   "cell_type": "markdown",
   "metadata": {},
   "source": [
    "# Feature Selection"
   ]
  },
  {
   "cell_type": "code",
   "execution_count": 37,
   "metadata": {},
   "outputs": [],
   "source": [
    "import sklearn \n",
    "from sklearn.feature_selection import RFE"
   ]
  },
  {
   "cell_type": "code",
   "execution_count": 38,
   "metadata": {},
   "outputs": [],
   "source": [
    "from sklearn import linear_model\n",
    "from sklearn.linear_model import LinearRegression"
   ]
  },
  {
   "cell_type": "code",
   "execution_count": 40,
   "metadata": {},
   "outputs": [],
   "source": [
    "model = LinearRegression()"
   ]
  },
  {
   "cell_type": "code",
   "execution_count": 41,
   "metadata": {},
   "outputs": [],
   "source": [
    "rfe = RFE(model,3)"
   ]
  },
  {
   "cell_type": "code",
   "execution_count": 42,
   "metadata": {},
   "outputs": [
    {
     "name": "stderr",
     "output_type": "stream",
     "text": [
      "C:\\ProgramData\\Anaconda3\\lib\\site-packages\\sklearn\\utils\\validation.py:761: DataConversionWarning: A column-vector y was passed when a 1d array was expected. Please change the shape of y to (n_samples, ), for example using ravel().\n",
      "  y = column_or_1d(y, warn=True)\n"
     ]
    }
   ],
   "source": [
    "fit =rfe.fit(X1, Y1)"
   ]
  },
  {
   "cell_type": "code",
   "execution_count": 45,
   "metadata": {},
   "outputs": [
    {
     "name": "stdout",
     "output_type": "stream",
     "text": [
      "no. of feature 3\n",
      "Selected feature [False False False False False False  True  True  True]\n",
      "Feature Ranking [3 7 4 6 5 2 1 1 1]\n"
     ]
    }
   ],
   "source": [
    "print(\"no. of feature %s\" % (fit.n_features_))\n",
    "print(\"Selected feature %s\" %(fit.support_))\n",
    "print(\"Feature Ranking %s\" %(fit.ranking_))"
   ]
  },
  {
   "cell_type": "code",
   "execution_count": 46,
   "metadata": {},
   "outputs": [
    {
     "data": {
      "text/html": [
       "<div>\n",
       "<style scoped>\n",
       "    .dataframe tbody tr th:only-of-type {\n",
       "        vertical-align: middle;\n",
       "    }\n",
       "\n",
       "    .dataframe tbody tr th {\n",
       "        vertical-align: top;\n",
       "    }\n",
       "\n",
       "    .dataframe thead th {\n",
       "        text-align: right;\n",
       "    }\n",
       "</style>\n",
       "<table border=\"1\" class=\"dataframe\">\n",
       "  <thead>\n",
       "    <tr style=\"text-align: right;\">\n",
       "      <th></th>\n",
       "      <th>Fund52WeekChange</th>\n",
       "      <th>FundShortRatio</th>\n",
       "      <th>FundShortPercofFloat</th>\n",
       "    </tr>\n",
       "  </thead>\n",
       "  <tbody>\n",
       "    <tr>\n",
       "      <th>10</th>\n",
       "      <td>-31.22</td>\n",
       "      <td>7.33</td>\n",
       "      <td>30.60</td>\n",
       "    </tr>\n",
       "    <tr>\n",
       "      <th>11</th>\n",
       "      <td>-31.22</td>\n",
       "      <td>7.33</td>\n",
       "      <td>30.60</td>\n",
       "    </tr>\n",
       "    <tr>\n",
       "      <th>14</th>\n",
       "      <td>-32.72</td>\n",
       "      <td>2.79</td>\n",
       "      <td>2.34</td>\n",
       "    </tr>\n",
       "    <tr>\n",
       "      <th>16</th>\n",
       "      <td>-32.72</td>\n",
       "      <td>2.79</td>\n",
       "      <td>2.34</td>\n",
       "    </tr>\n",
       "    <tr>\n",
       "      <th>31</th>\n",
       "      <td>-36.29</td>\n",
       "      <td>7.64</td>\n",
       "      <td>21.41</td>\n",
       "    </tr>\n",
       "  </tbody>\n",
       "</table>\n",
       "</div>"
      ],
      "text/plain": [
       "    Fund52WeekChange  FundShortRatio  FundShortPercofFloat\n",
       "10            -31.22            7.33                 30.60\n",
       "11            -31.22            7.33                 30.60\n",
       "14            -32.72            2.79                  2.34\n",
       "16            -32.72            2.79                  2.34\n",
       "31            -36.29            7.64                 21.41"
      ]
     },
     "execution_count": 46,
     "metadata": {},
     "output_type": "execute_result"
    }
   ],
   "source": [
    "Xf = X1[['Fund52WeekChange','FundShortRatio','FundShortPercofFloat']]\n",
    "Xf.head()"
   ]
  },
  {
   "cell_type": "code",
   "execution_count": 47,
   "metadata": {},
   "outputs": [
    {
     "data": {
      "text/plain": [
       "<matplotlib.axes._subplots.AxesSubplot at 0x1fa372df588>"
      ]
     },
     "execution_count": 47,
     "metadata": {},
     "output_type": "execute_result"
    },
    {
     "data": {
      "image/png": "[encoded data removed]",
      "text/plain": [
       "<Figure size 432x288 with 2 Axes>"
      ]
     },
     "metadata": {
      "needs_background": "light"
     },
     "output_type": "display_data"
    }
   ],
   "source": [
    "Z1 = df1[['Fund52WeekChange','FundShortRatio','FundShortPercofFloat','PercentageProfit']]\n",
    "heat1 = Z1.corr()\n",
    "sns.heatmap(heat1, annot= True)"
   ]
  },
  {
   "cell_type": "code",
   "execution_count": 48,
   "metadata": {},
   "outputs": [],
   "source": [
    "reg = linear_model.LinearRegression()"
   ]
  },
  {
   "cell_type": "code",
   "execution_count": 49,
   "metadata": {},
   "outputs": [],
   "source": [
    "from sklearn.model_selection import train_test_split"
   ]
  },
  {
   "cell_type": "code",
   "execution_count": 50,
   "metadata": {},
   "outputs": [],
   "source": [
    "(Xf_train, Xf_test, Y1_train, Y1_test) = train_test_split(Xf,Y1, test_size = 0.40, random_state = 0)"
   ]
  },
  {
   "cell_type": "code",
   "execution_count": 51,
   "metadata": {},
   "outputs": [
    {
     "data": {
      "text/plain": [
       "LinearRegression(copy_X=True, fit_intercept=True, n_jobs=None,\n",
       "         normalize=False)"
      ]
     },
     "execution_count": 51,
     "metadata": {},
     "output_type": "execute_result"
    }
   ],
   "source": [
    "model.fit(Xf_train, Y1_train)"
   ]
  },
  {
   "cell_type": "code",
   "execution_count": 52,
   "metadata": {},
   "outputs": [
    {
     "data": {
      "text/plain": [
       "-0.1394378466894608"
      ]
     },
     "execution_count": 52,
     "metadata": {},
     "output_type": "execute_result"
    }
   ],
   "source": [
    "accuracy = model.score(Xf_test,Y1_test)\n",
    "accuracy*100"
   ]
  },
  {
   "cell_type": "code",
   "execution_count": 53,
   "metadata": {},
   "outputs": [
    {
     "data": {
      "text/plain": [
       "array([[ 2.02610743e-04],\n",
       "       [-9.50726486e-04],\n",
       "       [-2.08472313e-04],\n",
       "       ...,\n",
       "       [-6.36543104e-05],\n",
       "       [-5.24768129e-04],\n",
       "       [ 8.10121550e-04]])"
      ]
     },
     "execution_count": 53,
     "metadata": {},
     "output_type": "execute_result"
    }
   ],
   "source": [
    "Y1_pred = model.predict(Xf_test)\n",
    "Y1_pred"
   ]
  },
  {
   "cell_type": "markdown",
   "metadata": {},
   "source": [
    "# Step 5: Logistic Regression(Y2)"
   ]
  },
  {
   "cell_type": "code",
   "execution_count": 54,
   "metadata": {},
   "outputs": [],
   "source": [
    "from sklearn.model_selection import train_test_split\n",
    "\n",
    "(Xf_train, Xf_test, Y2_train, Y2_test) = train_test_split(Xf,Y2, test_size = 0.40, random_state = 0)"
   ]
  },
  {
   "cell_type": "code",
   "execution_count": 55,
   "metadata": {},
   "outputs": [],
   "source": [
    "from sklearn.linear_model import LogisticRegression"
   ]
  },
  {
   "cell_type": "code",
   "execution_count": 56,
   "metadata": {},
   "outputs": [
    {
     "name": "stderr",
     "output_type": "stream",
     "text": [
      "C:\\ProgramData\\Anaconda3\\lib\\site-packages\\sklearn\\linear_model\\logistic.py:433: FutureWarning: Default solver will be changed to 'lbfgs' in 0.22. Specify a solver to silence this warning.\n",
      "  FutureWarning)\n",
      "C:\\ProgramData\\Anaconda3\\lib\\site-packages\\sklearn\\utils\\validation.py:761: DataConversionWarning: A column-vector y was passed when a 1d array was expected. Please change the shape of y to (n_samples, ), for example using ravel().\n",
      "  y = column_or_1d(y, warn=True)\n"
     ]
    },
    {
     "data": {
      "text/plain": [
       "LogisticRegression(C=1.0, class_weight=None, dual=False, fit_intercept=True,\n",
       "          intercept_scaling=1, max_iter=100, multi_class='warn',\n",
       "          n_jobs=None, penalty='l2', random_state=None, solver='warn',\n",
       "          tol=0.0001, verbose=0, warm_start=False)"
      ]
     },
     "execution_count": 56,
     "metadata": {},
     "output_type": "execute_result"
    }
   ],
   "source": [
    "logrerg = LogisticRegression()\n",
    "\n",
    "logrerg.fit(Xf_train, Y2_train)"
   ]
  },
  {
   "cell_type": "code",
   "execution_count": 57,
   "metadata": {},
   "outputs": [
    {
     "data": {
      "text/plain": [
       "4240"
      ]
     },
     "execution_count": 57,
     "metadata": {},
     "output_type": "execute_result"
    }
   ],
   "source": [
    "Y2_pred = logrerg.predict(Xf_test)\n",
    "Y2_pred.size"
   ]
  },
  {
   "cell_type": "code",
   "execution_count": 58,
   "metadata": {},
   "outputs": [],
   "source": [
    "from sklearn import metrics"
   ]
  },
  {
   "cell_type": "code",
   "execution_count": 59,
   "metadata": {},
   "outputs": [],
   "source": [
    "cnf_met = metrics.confusion_matrix(Y2_test, Y2_pred)"
   ]
  },
  {
   "cell_type": "code",
   "execution_count": 60,
   "metadata": {},
   "outputs": [
    {
     "data": {
      "text/plain": [
       "array([[  11, 1796],\n",
       "       [  22, 2411]], dtype=int64)"
      ]
     },
     "execution_count": 60,
     "metadata": {},
     "output_type": "execute_result"
    }
   ],
   "source": [
    "cnf_met"
   ]
  },
  {
   "cell_type": "code",
   "execution_count": 61,
   "metadata": {},
   "outputs": [
    {
     "name": "stdout",
     "output_type": "stream",
     "text": [
      "Accuracy Score:  0.5712264150943396\n"
     ]
    }
   ],
   "source": [
    "print(\"Accuracy Score: \",metrics.accuracy_score(Y2_test,Y2_pred))"
   ]
  },
  {
   "cell_type": "code",
   "execution_count": 62,
   "metadata": {},
   "outputs": [
    {
     "data": {
      "text/plain": [
       "<matplotlib.axes._subplots.AxesSubplot at 0x1fa37521c50>"
      ]
     },
     "execution_count": 62,
     "metadata": {},
     "output_type": "execute_result"
    },
    {
     "data": {
      "image/png": "[encoded data removed]",
      "text/plain": [
       "<Figure size 432x288 with 2 Axes>"
      ]
     },
     "metadata": {
      "needs_background": "light"
     },
     "output_type": "display_data"
    }
   ],
   "source": [
    "Z2 = df1[['Fund52WeekChange','FundShortRatio','FundShortPercofFloat','WinTrade']]\n",
    "heat2 = Z2.corr()\n",
    "sns.heatmap(heat2,annot = True)"
   ]
  },
  {
   "cell_type": "markdown",
   "metadata": {},
   "source": [
    "# Using Decision Tree"
   ]
  },
  {
   "cell_type": "markdown",
   "metadata": {},
   "source": [
    "# decision classifier"
   ]
  },
  {
   "cell_type": "code",
   "execution_count": 63,
   "metadata": {},
   "outputs": [],
   "source": [
    "from sklearn import tree"
   ]
  },
  {
   "cell_type": "code",
   "execution_count": 64,
   "metadata": {},
   "outputs": [
    {
     "data": {
      "text/plain": [
       "DecisionTreeClassifier(class_weight=None, criterion='gini', max_depth=None,\n",
       "            max_features=None, max_leaf_nodes=None,\n",
       "            min_impurity_decrease=0.0, min_impurity_split=None,\n",
       "            min_samples_leaf=1, min_samples_split=2,\n",
       "            min_weight_fraction_leaf=0.0, presort=False, random_state=None,\n",
       "            splitter='best')"
      ]
     },
     "execution_count": 64,
     "metadata": {},
     "output_type": "execute_result"
    }
   ],
   "source": [
    "model = tree.DecisionTreeClassifier()\n",
    "model.fit(Xf, Y2)"
   ]
  },
  {
   "cell_type": "code",
   "execution_count": 65,
   "metadata": {},
   "outputs": [
    {
     "data": {
      "text/plain": [
       "0.7000943396226416"
      ]
     },
     "execution_count": 65,
     "metadata": {},
     "output_type": "execute_result"
    }
   ],
   "source": [
    "model.score(Xf,Y2)"
   ]
  },
  {
   "cell_type": "code",
   "execution_count": 66,
   "metadata": {},
   "outputs": [],
   "source": [
    "from sklearn.model_selection import train_test_split"
   ]
  },
  {
   "cell_type": "code",
   "execution_count": 67,
   "metadata": {},
   "outputs": [],
   "source": [
    "(Xf_train, Xf_test, Y2_train, Y2_test) = train_test_split(Xf,Y2, test_size = 0.40, random_state = 0)"
   ]
  },
  {
   "cell_type": "code",
   "execution_count": 68,
   "metadata": {},
   "outputs": [
    {
     "data": {
      "text/plain": [
       "DecisionTreeClassifier(class_weight=None, criterion='gini', max_depth=None,\n",
       "            max_features=None, max_leaf_nodes=None,\n",
       "            min_impurity_decrease=0.0, min_impurity_split=None,\n",
       "            min_samples_leaf=1, min_samples_split=2,\n",
       "            min_weight_fraction_leaf=0.0, presort=False, random_state=None,\n",
       "            splitter='best')"
      ]
     },
     "execution_count": 68,
     "metadata": {},
     "output_type": "execute_result"
    }
   ],
   "source": [
    "model.fit(Xf_train, Y2_train)"
   ]
  },
  {
   "cell_type": "code",
   "execution_count": 69,
   "metadata": {},
   "outputs": [],
   "source": [
    "Y2_pred = model.predict(Xf_test)"
   ]
  },
  {
   "cell_type": "code",
   "execution_count": 70,
   "metadata": {},
   "outputs": [],
   "source": [
    "from sklearn import metrics"
   ]
  },
  {
   "cell_type": "code",
   "execution_count": 74,
   "metadata": {},
   "outputs": [
    {
     "data": {
      "text/plain": [
       "array([[ 895,  912],\n",
       "       [ 497, 1936]], dtype=int64)"
      ]
     },
     "execution_count": 74,
     "metadata": {},
     "output_type": "execute_result"
    }
   ],
   "source": [
    "cnf_met = metrics.confusion_matrix(Y2_test, Y2_pred)\n",
    "cnf_met"
   ]
  },
  {
   "cell_type": "code",
   "execution_count": 75,
   "metadata": {},
   "outputs": [
    {
     "name": "stdout",
     "output_type": "stream",
     "text": [
      "Accuracy Score:  0.667688679245283\n"
     ]
    }
   ],
   "source": [
    "print(\"Accuracy Score: \",metrics.accuracy_score(Y2_test,Y2_pred))"
   ]
  },
  {
   "cell_type": "markdown",
   "metadata": {},
   "source": [
    "# decision regression"
   ]
  },
  {
   "cell_type": "code",
   "execution_count": 76,
   "metadata": {},
   "outputs": [],
   "source": [
    "from sklearn import tree"
   ]
  },
  {
   "cell_type": "code",
   "execution_count": 77,
   "metadata": {},
   "outputs": [],
   "source": [
    "model = tree.DecisionTreeRegressor()"
   ]
  },
  {
   "cell_type": "code",
   "execution_count": 78,
   "metadata": {},
   "outputs": [
    {
     "data": {
      "text/plain": [
       "DecisionTreeRegressor(criterion='mse', max_depth=None, max_features=None,\n",
       "           max_leaf_nodes=None, min_impurity_decrease=0.0,\n",
       "           min_impurity_split=None, min_samples_leaf=1,\n",
       "           min_samples_split=2, min_weight_fraction_leaf=0.0,\n",
       "           presort=False, random_state=None, splitter='best')"
      ]
     },
     "execution_count": 78,
     "metadata": {},
     "output_type": "execute_result"
    }
   ],
   "source": [
    "model.fit(Xf,Y1)"
   ]
  },
  {
   "cell_type": "code",
   "execution_count": 79,
   "metadata": {},
   "outputs": [
    {
     "data": {
      "text/plain": [
       "0.309540528036485"
      ]
     },
     "execution_count": 79,
     "metadata": {},
     "output_type": "execute_result"
    }
   ],
   "source": [
    "model.score(Xf,Y1)"
   ]
  },
  {
   "cell_type": "code",
   "execution_count": 80,
   "metadata": {},
   "outputs": [],
   "source": [
    "from sklearn.model_selection import train_test_split"
   ]
  },
  {
   "cell_type": "code",
   "execution_count": 81,
   "metadata": {},
   "outputs": [],
   "source": [
    "(Xf_train, Xf_test, Y1_train, Y1_test) = train_test_split(Xf,Y1, test_size = 0.40, random_state = 0)"
   ]
  },
  {
   "cell_type": "code",
   "execution_count": 82,
   "metadata": {},
   "outputs": [],
   "source": [
    "std_Y1_pred = model.predict(Xf_test)"
   ]
  },
  {
   "cell_type": "code",
   "execution_count": 83,
   "metadata": {},
   "outputs": [
    {
     "name": "stdout",
     "output_type": "stream",
     "text": [
      "Accuracy Score:  0.2919569524107476\n"
     ]
    }
   ],
   "source": [
    "print(\"Accuracy Score: \",model.score(Xf_test,Y1_test))"
   ]
  },
  {
   "cell_type": "markdown",
   "metadata": {},
   "source": [
    "# improve accuracy by Standard Scaler\n"
   ]
  },
  {
   "cell_type": "code",
   "execution_count": 84,
   "metadata": {},
   "outputs": [],
   "source": [
    "from sklearn.preprocessing import StandardScaler"
   ]
  },
  {
   "cell_type": "code",
   "execution_count": 85,
   "metadata": {},
   "outputs": [],
   "source": [
    "scaler = StandardScaler().fit(Xf_train)"
   ]
  },
  {
   "cell_type": "code",
   "execution_count": 86,
   "metadata": {},
   "outputs": [],
   "source": [
    "standardized_Xf_train = scaler.transform(Xf_train)"
   ]
  },
  {
   "cell_type": "code",
   "execution_count": 87,
   "metadata": {},
   "outputs": [],
   "source": [
    "standardized_Xf_test = scaler.transform(Xf_test)"
   ]
  },
  {
   "cell_type": "markdown",
   "metadata": {},
   "source": [
    "# tree regressor after standerdization"
   ]
  },
  {
   "cell_type": "code",
   "execution_count": 89,
   "metadata": {},
   "outputs": [],
   "source": [
    "from sklearn import tree"
   ]
  },
  {
   "cell_type": "code",
   "execution_count": 90,
   "metadata": {},
   "outputs": [],
   "source": [
    "model = tree.DecisionTreeRegressor()"
   ]
  },
  {
   "cell_type": "code",
   "execution_count": 91,
   "metadata": {},
   "outputs": [],
   "source": [
    "from sklearn.model_selection import train_test_split"
   ]
  },
  {
   "cell_type": "code",
   "execution_count": 92,
   "metadata": {},
   "outputs": [
    {
     "data": {
      "text/plain": [
       "DecisionTreeRegressor(criterion='mse', max_depth=None, max_features=None,\n",
       "           max_leaf_nodes=None, min_impurity_decrease=0.0,\n",
       "           min_impurity_split=None, min_samples_leaf=1,\n",
       "           min_samples_split=2, min_weight_fraction_leaf=0.0,\n",
       "           presort=False, random_state=None, splitter='best')"
      ]
     },
     "execution_count": 92,
     "metadata": {},
     "output_type": "execute_result"
    }
   ],
   "source": [
    "model.fit(standardized_Xf_train,Y1_train)\n"
   ]
  },
  {
   "cell_type": "code",
   "execution_count": 93,
   "metadata": {},
   "outputs": [],
   "source": [
    "Y1_pred = model.predict(standardized_Xf_test)"
   ]
  },
  {
   "cell_type": "code",
   "execution_count": 94,
   "metadata": {},
   "outputs": [
    {
     "name": "stdout",
     "output_type": "stream",
     "text": [
      "Accuracy Score:  0.15620615485151323\n"
     ]
    }
   ],
   "source": [
    "print(\"Accuracy Score: \",model.score(standardized_Xf_test,Y1_test))"
   ]
  },
  {
   "cell_type": "markdown",
   "metadata": {},
   "source": [
    "# tree classifier after standerdization"
   ]
  },
  {
   "cell_type": "code",
   "execution_count": 95,
   "metadata": {},
   "outputs": [],
   "source": [
    "from sklearn import tree\n",
    "model = tree.DecisionTreeClassifier()"
   ]
  },
  {
   "cell_type": "code",
   "execution_count": 96,
   "metadata": {},
   "outputs": [
    {
     "data": {
      "text/plain": [
       "DecisionTreeClassifier(class_weight=None, criterion='gini', max_depth=None,\n",
       "            max_features=None, max_leaf_nodes=None,\n",
       "            min_impurity_decrease=0.0, min_impurity_split=None,\n",
       "            min_samples_leaf=1, min_samples_split=2,\n",
       "            min_weight_fraction_leaf=0.0, presort=False, random_state=None,\n",
       "            splitter='best')"
      ]
     },
     "execution_count": 96,
     "metadata": {},
     "output_type": "execute_result"
    }
   ],
   "source": [
    "model.fit(standardized_Xf_train,Y2_train)"
   ]
  },
  {
   "cell_type": "code",
   "execution_count": null,
   "metadata": {},
   "outputs": [],
   "source": []
  }
 ],
 "metadata": {
  "kernelspec": {
   "display_name": "Python 3",
   "language": "python",
   "name": "python3"
  },
  "language_info": {
   "codemirror_mode": {
    "name": "ipython",
    "version": 3
   },
   "file_extension": ".py",
   "mimetype": "text/x-python",
   "name": "python",
   "nbconvert_exporter": "python",
   "pygments_lexer": "ipython3",
   "version": "3.7.3"
  }
 },
 "nbformat": 4,
 "nbformat_minor": 2
}
