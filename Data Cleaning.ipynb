{
 "cells": [
  {
   "cell_type": "code",
   "execution_count": 1,
   "metadata": {},
   "outputs": [],
   "source": [
    "import numpy as np\n",
    "import pandas as pd\n",
    "import matplotlib.pyplot as plt\n",
    "import seaborn as sns"
   ]
  },
  {
   "cell_type": "code",
   "execution_count": 2,
   "metadata": {},
   "outputs": [
    {
     "name": "stderr",
     "output_type": "stream",
     "text": [
      "C:\\ProgramData\\Anaconda3\\lib\\site-packages\\IPython\\core\\interactiveshell.py:3049: DtypeWarning: Columns (7,8,9,10,11,18,27,28,29,30,31,32,33,34,35,36,37,39) have mixed types. Specify dtype option on import or set low_memory=False.\n",
      "  interactivity=interactivity, compiler=compiler, result=result)\n"
     ]
    }
   ],
   "source": [
    "df = pd.read_csv(\"F:/Data Cleaning/New folder/MetObjects.csv\")"
   ]
  },
  {
   "cell_type": "code",
   "execution_count": 3,
   "metadata": {},
   "outputs": [
    {
     "data": {
      "text/html": [
       "<div>\n",
       "<style scoped>\n",
       "    .dataframe tbody tr th:only-of-type {\n",
       "        vertical-align: middle;\n",
       "    }\n",
       "\n",
       "    .dataframe tbody tr th {\n",
       "        vertical-align: top;\n",
       "    }\n",
       "\n",
       "    .dataframe thead th {\n",
       "        text-align: right;\n",
       "    }\n",
       "</style>\n",
       "<table border=\"1\" class=\"dataframe\">\n",
       "  <thead>\n",
       "    <tr style=\"text-align: right;\">\n",
       "      <th></th>\n",
       "      <th>Object Number</th>\n",
       "      <th>Is Highlight</th>\n",
       "      <th>Is Public Domain</th>\n",
       "      <th>Object ID</th>\n",
       "      <th>Department</th>\n",
       "      <th>Object Name</th>\n",
       "      <th>Title</th>\n",
       "      <th>Culture</th>\n",
       "      <th>Period</th>\n",
       "      <th>Dynasty</th>\n",
       "      <th>...</th>\n",
       "      <th>Locale</th>\n",
       "      <th>Locus</th>\n",
       "      <th>Excavation</th>\n",
       "      <th>River</th>\n",
       "      <th>Classification</th>\n",
       "      <th>Rights and Reproduction</th>\n",
       "      <th>Link Resource</th>\n",
       "      <th>Metadata Date</th>\n",
       "      <th>Repository</th>\n",
       "      <th>Tags</th>\n",
       "    </tr>\n",
       "  </thead>\n",
       "  <tbody>\n",
       "    <tr>\n",
       "      <th>0</th>\n",
       "      <td>1979.486.1</td>\n",
       "      <td>False</td>\n",
       "      <td>False</td>\n",
       "      <td>1</td>\n",
       "      <td>American Decorative Arts</td>\n",
       "      <td>Coin</td>\n",
       "      <td>One-dollar Liberty Head Coin</td>\n",
       "      <td>NaN</td>\n",
       "      <td>NaN</td>\n",
       "      <td>NaN</td>\n",
       "      <td>...</td>\n",
       "      <td>NaN</td>\n",
       "      <td>NaN</td>\n",
       "      <td>NaN</td>\n",
       "      <td>NaN</td>\n",
       "      <td>Metal</td>\n",
       "      <td>NaN</td>\n",
       "      <td>http://www.metmuseum.org/art/collection/search/1</td>\n",
       "      <td>8/26/2019 8:00:02 AM</td>\n",
       "      <td>Metropolitan Museum of Art, New York, NY</td>\n",
       "      <td>NaN</td>\n",
       "    </tr>\n",
       "    <tr>\n",
       "      <th>1</th>\n",
       "      <td>1980.264.5</td>\n",
       "      <td>False</td>\n",
       "      <td>False</td>\n",
       "      <td>2</td>\n",
       "      <td>American Decorative Arts</td>\n",
       "      <td>Coin</td>\n",
       "      <td>Ten-dollar Liberty Head Coin</td>\n",
       "      <td>NaN</td>\n",
       "      <td>NaN</td>\n",
       "      <td>NaN</td>\n",
       "      <td>...</td>\n",
       "      <td>NaN</td>\n",
       "      <td>NaN</td>\n",
       "      <td>NaN</td>\n",
       "      <td>NaN</td>\n",
       "      <td>Metal</td>\n",
       "      <td>NaN</td>\n",
       "      <td>http://www.metmuseum.org/art/collection/search/2</td>\n",
       "      <td>8/26/2019 8:00:02 AM</td>\n",
       "      <td>Metropolitan Museum of Art, New York, NY</td>\n",
       "      <td>NaN</td>\n",
       "    </tr>\n",
       "    <tr>\n",
       "      <th>2</th>\n",
       "      <td>67.265.9</td>\n",
       "      <td>False</td>\n",
       "      <td>False</td>\n",
       "      <td>3</td>\n",
       "      <td>American Decorative Arts</td>\n",
       "      <td>Coin</td>\n",
       "      <td>Two-and-a-Half Dollar Coin</td>\n",
       "      <td>NaN</td>\n",
       "      <td>NaN</td>\n",
       "      <td>NaN</td>\n",
       "      <td>...</td>\n",
       "      <td>NaN</td>\n",
       "      <td>NaN</td>\n",
       "      <td>NaN</td>\n",
       "      <td>NaN</td>\n",
       "      <td>Metal</td>\n",
       "      <td>NaN</td>\n",
       "      <td>http://www.metmuseum.org/art/collection/search/3</td>\n",
       "      <td>8/26/2019 8:00:02 AM</td>\n",
       "      <td>Metropolitan Museum of Art, New York, NY</td>\n",
       "      <td>NaN</td>\n",
       "    </tr>\n",
       "    <tr>\n",
       "      <th>3</th>\n",
       "      <td>67.265.10</td>\n",
       "      <td>False</td>\n",
       "      <td>False</td>\n",
       "      <td>4</td>\n",
       "      <td>American Decorative Arts</td>\n",
       "      <td>Coin</td>\n",
       "      <td>Two-and-a-Half Dollar Coin</td>\n",
       "      <td>NaN</td>\n",
       "      <td>NaN</td>\n",
       "      <td>NaN</td>\n",
       "      <td>...</td>\n",
       "      <td>NaN</td>\n",
       "      <td>NaN</td>\n",
       "      <td>NaN</td>\n",
       "      <td>NaN</td>\n",
       "      <td>Metal</td>\n",
       "      <td>NaN</td>\n",
       "      <td>http://www.metmuseum.org/art/collection/search/4</td>\n",
       "      <td>8/26/2019 8:00:02 AM</td>\n",
       "      <td>Metropolitan Museum of Art, New York, NY</td>\n",
       "      <td>NaN</td>\n",
       "    </tr>\n",
       "    <tr>\n",
       "      <th>4</th>\n",
       "      <td>67.265.11</td>\n",
       "      <td>False</td>\n",
       "      <td>False</td>\n",
       "      <td>5</td>\n",
       "      <td>American Decorative Arts</td>\n",
       "      <td>Coin</td>\n",
       "      <td>Two-and-a-Half Dollar Coin</td>\n",
       "      <td>NaN</td>\n",
       "      <td>NaN</td>\n",
       "      <td>NaN</td>\n",
       "      <td>...</td>\n",
       "      <td>NaN</td>\n",
       "      <td>NaN</td>\n",
       "      <td>NaN</td>\n",
       "      <td>NaN</td>\n",
       "      <td>Metal</td>\n",
       "      <td>NaN</td>\n",
       "      <td>http://www.metmuseum.org/art/collection/search/5</td>\n",
       "      <td>8/26/2019 8:00:02 AM</td>\n",
       "      <td>Metropolitan Museum of Art, New York, NY</td>\n",
       "      <td>NaN</td>\n",
       "    </tr>\n",
       "  </tbody>\n",
       "</table>\n",
       "<p>5 rows × 44 columns</p>\n",
       "</div>"
      ],
      "text/plain": [
       "  Object Number  Is Highlight  Is Public Domain  Object ID  \\\n",
       "0    1979.486.1         False             False          1   \n",
       "1    1980.264.5         False             False          2   \n",
       "2      67.265.9         False             False          3   \n",
       "3     67.265.10         False             False          4   \n",
       "4     67.265.11         False             False          5   \n",
       "\n",
       "                 Department Object Name                         Title Culture  \\\n",
       "0  American Decorative Arts        Coin  One-dollar Liberty Head Coin     NaN   \n",
       "1  American Decorative Arts        Coin  Ten-dollar Liberty Head Coin     NaN   \n",
       "2  American Decorative Arts        Coin    Two-and-a-Half Dollar Coin     NaN   \n",
       "3  American Decorative Arts        Coin    Two-and-a-Half Dollar Coin     NaN   \n",
       "4  American Decorative Arts        Coin    Two-and-a-Half Dollar Coin     NaN   \n",
       "\n",
       "  Period Dynasty  ... Locale Locus Excavation River Classification  \\\n",
       "0    NaN     NaN  ...    NaN   NaN        NaN   NaN          Metal   \n",
       "1    NaN     NaN  ...    NaN   NaN        NaN   NaN          Metal   \n",
       "2    NaN     NaN  ...    NaN   NaN        NaN   NaN          Metal   \n",
       "3    NaN     NaN  ...    NaN   NaN        NaN   NaN          Metal   \n",
       "4    NaN     NaN  ...    NaN   NaN        NaN   NaN          Metal   \n",
       "\n",
       "  Rights and Reproduction                                     Link Resource  \\\n",
       "0                     NaN  http://www.metmuseum.org/art/collection/search/1   \n",
       "1                     NaN  http://www.metmuseum.org/art/collection/search/2   \n",
       "2                     NaN  http://www.metmuseum.org/art/collection/search/3   \n",
       "3                     NaN  http://www.metmuseum.org/art/collection/search/4   \n",
       "4                     NaN  http://www.metmuseum.org/art/collection/search/5   \n",
       "\n",
       "          Metadata Date                                Repository Tags  \n",
       "0  8/26/2019 8:00:02 AM  Metropolitan Museum of Art, New York, NY  NaN  \n",
       "1  8/26/2019 8:00:02 AM  Metropolitan Museum of Art, New York, NY  NaN  \n",
       "2  8/26/2019 8:00:02 AM  Metropolitan Museum of Art, New York, NY  NaN  \n",
       "3  8/26/2019 8:00:02 AM  Metropolitan Museum of Art, New York, NY  NaN  \n",
       "4  8/26/2019 8:00:02 AM  Metropolitan Museum of Art, New York, NY  NaN  \n",
       "\n",
       "[5 rows x 44 columns]"
      ]
     },
     "execution_count": 3,
     "metadata": {},
     "output_type": "execute_result"
    }
   ],
   "source": [
    "df.head()"
   ]
  },
  {
   "cell_type": "code",
   "execution_count": 4,
   "metadata": {},
   "outputs": [
    {
     "data": {
      "text/plain": [
       "<matplotlib.axes._subplots.AxesSubplot at 0x1f63bb14ba8>"
      ]
     },
     "execution_count": 4,
     "metadata": {},
     "output_type": "execute_result"
    },
    {
     "data": {
      "image/png": "[encoded data removed]",
      "text/plain": [
       "<Figure size 432x288 with 1 Axes>"
      ]
     },
     "metadata": {
      "needs_background": "light"
     },
     "output_type": "display_data"
    }
   ],
   "source": [
    "sns.heatmap(df.isnull(), yticklabels= False, cbar= False)"
   ]
  },
  {
   "cell_type": "code",
   "execution_count": 5,
   "metadata": {},
   "outputs": [
    {
     "data": {
      "text/plain": [
       "(468997, 44)"
      ]
     },
     "execution_count": 5,
     "metadata": {},
     "output_type": "execute_result"
    }
   ],
   "source": [
    "df.shape"
   ]
  },
  {
   "cell_type": "code",
   "execution_count": 6,
   "metadata": {},
   "outputs": [
    {
     "data": {
      "text/plain": [
       "Object Number              object\n",
       "Is Highlight                 bool\n",
       "Is Public Domain             bool\n",
       "Object ID                   int64\n",
       "Department                 object\n",
       "Object Name                object\n",
       "Title                      object\n",
       "Culture                    object\n",
       "Period                     object\n",
       "Dynasty                    object\n",
       "Reign                      object\n",
       "Portfolio                  object\n",
       "Artist Role                object\n",
       "Artist Prefix              object\n",
       "Artist Display Name        object\n",
       "Artist Display Bio         object\n",
       "Artist Suffix              object\n",
       "Artist Alpha Sort          object\n",
       "Artist Nationality         object\n",
       "Artist Begin Date          object\n",
       "Artist End Date            object\n",
       "Object Date                object\n",
       "Object Begin Date           int64\n",
       "Object End Date             int64\n",
       "Medium                     object\n",
       "Dimensions                 object\n",
       "Credit Line                object\n",
       "Geography Type             object\n",
       "City                       object\n",
       "State                      object\n",
       "County                     object\n",
       "Country                    object\n",
       "Region                     object\n",
       "Subregion                  object\n",
       "Locale                     object\n",
       "Locus                      object\n",
       "Excavation                 object\n",
       "River                      object\n",
       "Classification             object\n",
       "Rights and Reproduction    object\n",
       "Link Resource              object\n",
       "Metadata Date              object\n",
       "Repository                 object\n",
       "Tags                       object\n",
       "dtype: object"
      ]
     },
     "execution_count": 6,
     "metadata": {},
     "output_type": "execute_result"
    }
   ],
   "source": [
    "df.dtypes"
   ]
  },
  {
   "cell_type": "code",
   "execution_count": null,
   "metadata": {},
   "outputs": [],
   "source": []
  },
  {
   "cell_type": "code",
   "execution_count": 7,
   "metadata": {},
   "outputs": [
    {
     "data": {
      "text/plain": [
       "Object Number                   0\n",
       "Is Highlight                    0\n",
       "Is Public Domain                0\n",
       "Object ID                       0\n",
       "Department                      0\n",
       "Object Name                  1775\n",
       "Title                       30163\n",
       "Culture                    263425\n",
       "Period                     380379\n",
       "Dynasty                    445864\n",
       "Reign                      457841\n",
       "Portfolio                  446282\n",
       "Artist Role                203852\n",
       "Artist Prefix              380578\n",
       "Artist Display Name        201758\n",
       "Artist Display Bio         240887\n",
       "Artist Suffix              457044\n",
       "Artist Alpha Sort          201793\n",
       "Artist Nationality         286438\n",
       "Artist Begin Date          238520\n",
       "Artist End Date            241124\n",
       "Object Date                 14791\n",
       "Object Begin Date               0\n",
       "Object End Date                 0\n",
       "Medium                       7169\n",
       "Dimensions                  75759\n",
       "Credit Line                   547\n",
       "Geography Type             409929\n",
       "City                       437318\n",
       "State                      466479\n",
       "County                     460777\n",
       "Country                    394014\n",
       "Region                     437706\n",
       "Subregion                  446971\n",
       "Locale                     453446\n",
       "Locus                      461650\n",
       "Excavation                 453015\n",
       "River                      466901\n",
       "Classification              56001\n",
       "Rights and Reproduction    446751\n",
       "Link Resource                   0\n",
       "Metadata Date                   0\n",
       "Repository                      0\n",
       "Tags                       248959\n",
       "dtype: int64"
      ]
     },
     "execution_count": 7,
     "metadata": {},
     "output_type": "execute_result"
    }
   ],
   "source": [
    "df.isnull().sum()"
   ]
  },
  {
   "cell_type": "code",
   "execution_count": null,
   "metadata": {},
   "outputs": [],
   "source": []
  },
  {
   "cell_type": "code",
   "execution_count": 8,
   "metadata": {},
   "outputs": [],
   "source": [
    "#df['Object Name'].value_counts()"
   ]
  },
  {
   "cell_type": "code",
   "execution_count": 9,
   "metadata": {},
   "outputs": [],
   "source": [
    "df['Object Name'] = df['Object Name'].fillna(df['Object Name'].mode()[0])"
   ]
  },
  {
   "cell_type": "code",
   "execution_count": 10,
   "metadata": {},
   "outputs": [],
   "source": [
    "df['Title'] = df['Title'].fillna(df['Title'].mode()[0])"
   ]
  },
  {
   "cell_type": "code",
   "execution_count": 11,
   "metadata": {},
   "outputs": [],
   "source": [
    "df.drop(['Culture','Period','Dynasty','Reign','Portfolio','Artist Role','Artist Prefix',\n",
    "         'Artist Display Name','Artist Display Bio','Artist Suffix','Artist Alpha Sort',\n",
    "         'Artist Nationality','Artist Begin Date','Artist End Date'], axis=1, inplace= True)"
   ]
  },
  {
   "cell_type": "code",
   "execution_count": 12,
   "metadata": {},
   "outputs": [],
   "source": [
    "df['Object Date'] =df['Object Date'].fillna(df['Object Date'].mode()[0])"
   ]
  },
  {
   "cell_type": "code",
   "execution_count": 13,
   "metadata": {},
   "outputs": [],
   "source": [
    "df['Medium'] =df['Medium'].fillna(df['Medium'].mode()[0])"
   ]
  },
  {
   "cell_type": "code",
   "execution_count": 14,
   "metadata": {},
   "outputs": [],
   "source": [
    "df['Dimensions'] = df['Dimensions'].fillna(df['Dimensions'].mode()[0])"
   ]
  },
  {
   "cell_type": "code",
   "execution_count": 15,
   "metadata": {},
   "outputs": [],
   "source": [
    "df['Credit Line'] = df['Credit Line'].fillna(df['Credit Line'].mode()[0])"
   ]
  },
  {
   "cell_type": "code",
   "execution_count": 16,
   "metadata": {},
   "outputs": [],
   "source": [
    "df.drop(['Geography Type','City','State','County','Country','Region','Subregion','Locale',\n",
    "         'Locus','Excavation','River','Rights and Reproduction','Tags'], axis=1, inplace= True)"
   ]
  },
  {
   "cell_type": "code",
   "execution_count": 17,
   "metadata": {},
   "outputs": [],
   "source": [
    "df['Classification'] = df['Classification'].fillna(df['Classification'].mode()[0])"
   ]
  },
  {
   "cell_type": "code",
   "execution_count": 18,
   "metadata": {},
   "outputs": [
    {
     "data": {
      "text/plain": [
       "(468997, 17)"
      ]
     },
     "execution_count": 18,
     "metadata": {},
     "output_type": "execute_result"
    }
   ],
   "source": [
    "df.shape"
   ]
  },
  {
   "cell_type": "code",
   "execution_count": 20,
   "metadata": {},
   "outputs": [
    {
     "data": {
      "text/plain": [
       "<matplotlib.axes._subplots.AxesSubplot at 0x1f63bab63c8>"
      ]
     },
     "execution_count": 20,
     "metadata": {},
     "output_type": "execute_result"
    },
    {
     "data": {
      "image/png": "[encoded data removed]",
      "text/plain": [
       "<Figure size 432x288 with 1 Axes>"
      ]
     },
     "metadata": {
      "needs_background": "light"
     },
     "output_type": "display_data"
    }
   ],
   "source": [
    "sns.heatmap(df.isnull(),yticklabels=False,cbar=False,cmap='YlGnBu')\n"
   ]
  },
  {
   "cell_type": "code",
   "execution_count": 21,
   "metadata": {},
   "outputs": [
    {
     "data": {
      "text/html": [
       "<div>\n",
       "<style scoped>\n",
       "    .dataframe tbody tr th:only-of-type {\n",
       "        vertical-align: middle;\n",
       "    }\n",
       "\n",
       "    .dataframe tbody tr th {\n",
       "        vertical-align: top;\n",
       "    }\n",
       "\n",
       "    .dataframe thead th {\n",
       "        text-align: right;\n",
       "    }\n",
       "</style>\n",
       "<table border=\"1\" class=\"dataframe\">\n",
       "  <thead>\n",
       "    <tr style=\"text-align: right;\">\n",
       "      <th></th>\n",
       "      <th>Object Number</th>\n",
       "      <th>Is Highlight</th>\n",
       "      <th>Is Public Domain</th>\n",
       "      <th>Object ID</th>\n",
       "      <th>Department</th>\n",
       "      <th>Object Name</th>\n",
       "      <th>Title</th>\n",
       "      <th>Object Date</th>\n",
       "      <th>Object Begin Date</th>\n",
       "      <th>Object End Date</th>\n",
       "      <th>Medium</th>\n",
       "      <th>Dimensions</th>\n",
       "      <th>Credit Line</th>\n",
       "      <th>Classification</th>\n",
       "      <th>Link Resource</th>\n",
       "      <th>Metadata Date</th>\n",
       "      <th>Repository</th>\n",
       "    </tr>\n",
       "  </thead>\n",
       "  <tbody>\n",
       "    <tr>\n",
       "      <th>0</th>\n",
       "      <td>1979.486.1</td>\n",
       "      <td>False</td>\n",
       "      <td>False</td>\n",
       "      <td>1</td>\n",
       "      <td>American Decorative Arts</td>\n",
       "      <td>Coin</td>\n",
       "      <td>One-dollar Liberty Head Coin</td>\n",
       "      <td>1853</td>\n",
       "      <td>1853</td>\n",
       "      <td>1853</td>\n",
       "      <td>Gold</td>\n",
       "      <td>Dimensions unavailable</td>\n",
       "      <td>Gift of Heinz L. Stoppelmann, 1979</td>\n",
       "      <td>Metal</td>\n",
       "      <td>http://www.metmuseum.org/art/collection/search/1</td>\n",
       "      <td>8/26/2019 8:00:02 AM</td>\n",
       "      <td>Metropolitan Museum of Art, New York, NY</td>\n",
       "    </tr>\n",
       "    <tr>\n",
       "      <th>1</th>\n",
       "      <td>1980.264.5</td>\n",
       "      <td>False</td>\n",
       "      <td>False</td>\n",
       "      <td>2</td>\n",
       "      <td>American Decorative Arts</td>\n",
       "      <td>Coin</td>\n",
       "      <td>Ten-dollar Liberty Head Coin</td>\n",
       "      <td>1901</td>\n",
       "      <td>1901</td>\n",
       "      <td>1901</td>\n",
       "      <td>Gold</td>\n",
       "      <td>Dimensions unavailable</td>\n",
       "      <td>Gift of Heinz L. Stoppelmann, 1980</td>\n",
       "      <td>Metal</td>\n",
       "      <td>http://www.metmuseum.org/art/collection/search/2</td>\n",
       "      <td>8/26/2019 8:00:02 AM</td>\n",
       "      <td>Metropolitan Museum of Art, New York, NY</td>\n",
       "    </tr>\n",
       "    <tr>\n",
       "      <th>2</th>\n",
       "      <td>67.265.9</td>\n",
       "      <td>False</td>\n",
       "      <td>False</td>\n",
       "      <td>3</td>\n",
       "      <td>American Decorative Arts</td>\n",
       "      <td>Coin</td>\n",
       "      <td>Two-and-a-Half Dollar Coin</td>\n",
       "      <td>1909–27</td>\n",
       "      <td>1909</td>\n",
       "      <td>1927</td>\n",
       "      <td>Gold</td>\n",
       "      <td>Diam. 11/16 in. (1.7 cm)</td>\n",
       "      <td>Gift of C. Ruxton Love, Jr., 1967</td>\n",
       "      <td>Metal</td>\n",
       "      <td>http://www.metmuseum.org/art/collection/search/3</td>\n",
       "      <td>8/26/2019 8:00:02 AM</td>\n",
       "      <td>Metropolitan Museum of Art, New York, NY</td>\n",
       "    </tr>\n",
       "    <tr>\n",
       "      <th>3</th>\n",
       "      <td>67.265.10</td>\n",
       "      <td>False</td>\n",
       "      <td>False</td>\n",
       "      <td>4</td>\n",
       "      <td>American Decorative Arts</td>\n",
       "      <td>Coin</td>\n",
       "      <td>Two-and-a-Half Dollar Coin</td>\n",
       "      <td>1909–27</td>\n",
       "      <td>1909</td>\n",
       "      <td>1927</td>\n",
       "      <td>Gold</td>\n",
       "      <td>Diam. 11/16 in. (1.7 cm)</td>\n",
       "      <td>Gift of C. Ruxton Love, Jr., 1967</td>\n",
       "      <td>Metal</td>\n",
       "      <td>http://www.metmuseum.org/art/collection/search/4</td>\n",
       "      <td>8/26/2019 8:00:02 AM</td>\n",
       "      <td>Metropolitan Museum of Art, New York, NY</td>\n",
       "    </tr>\n",
       "    <tr>\n",
       "      <th>4</th>\n",
       "      <td>67.265.11</td>\n",
       "      <td>False</td>\n",
       "      <td>False</td>\n",
       "      <td>5</td>\n",
       "      <td>American Decorative Arts</td>\n",
       "      <td>Coin</td>\n",
       "      <td>Two-and-a-Half Dollar Coin</td>\n",
       "      <td>1909–27</td>\n",
       "      <td>1909</td>\n",
       "      <td>1927</td>\n",
       "      <td>Gold</td>\n",
       "      <td>Diam. 11/16 in. (1.7 cm)</td>\n",
       "      <td>Gift of C. Ruxton Love, Jr., 1967</td>\n",
       "      <td>Metal</td>\n",
       "      <td>http://www.metmuseum.org/art/collection/search/5</td>\n",
       "      <td>8/26/2019 8:00:02 AM</td>\n",
       "      <td>Metropolitan Museum of Art, New York, NY</td>\n",
       "    </tr>\n",
       "  </tbody>\n",
       "</table>\n",
       "</div>"
      ],
      "text/plain": [
       "  Object Number  Is Highlight  Is Public Domain  Object ID  \\\n",
       "0    1979.486.1         False             False          1   \n",
       "1    1980.264.5         False             False          2   \n",
       "2      67.265.9         False             False          3   \n",
       "3     67.265.10         False             False          4   \n",
       "4     67.265.11         False             False          5   \n",
       "\n",
       "                 Department Object Name                         Title  \\\n",
       "0  American Decorative Arts        Coin  One-dollar Liberty Head Coin   \n",
       "1  American Decorative Arts        Coin  Ten-dollar Liberty Head Coin   \n",
       "2  American Decorative Arts        Coin    Two-and-a-Half Dollar Coin   \n",
       "3  American Decorative Arts        Coin    Two-and-a-Half Dollar Coin   \n",
       "4  American Decorative Arts        Coin    Two-and-a-Half Dollar Coin   \n",
       "\n",
       "  Object Date  Object Begin Date  Object End Date Medium  \\\n",
       "0        1853               1853             1853   Gold   \n",
       "1        1901               1901             1901   Gold   \n",
       "2     1909–27               1909             1927   Gold   \n",
       "3     1909–27               1909             1927   Gold   \n",
       "4     1909–27               1909             1927   Gold   \n",
       "\n",
       "                 Dimensions                         Credit Line  \\\n",
       "0    Dimensions unavailable  Gift of Heinz L. Stoppelmann, 1979   \n",
       "1    Dimensions unavailable  Gift of Heinz L. Stoppelmann, 1980   \n",
       "2  Diam. 11/16 in. (1.7 cm)   Gift of C. Ruxton Love, Jr., 1967   \n",
       "3  Diam. 11/16 in. (1.7 cm)   Gift of C. Ruxton Love, Jr., 1967   \n",
       "4  Diam. 11/16 in. (1.7 cm)   Gift of C. Ruxton Love, Jr., 1967   \n",
       "\n",
       "  Classification                                     Link Resource  \\\n",
       "0          Metal  http://www.metmuseum.org/art/collection/search/1   \n",
       "1          Metal  http://www.metmuseum.org/art/collection/search/2   \n",
       "2          Metal  http://www.metmuseum.org/art/collection/search/3   \n",
       "3          Metal  http://www.metmuseum.org/art/collection/search/4   \n",
       "4          Metal  http://www.metmuseum.org/art/collection/search/5   \n",
       "\n",
       "          Metadata Date                                Repository  \n",
       "0  8/26/2019 8:00:02 AM  Metropolitan Museum of Art, New York, NY  \n",
       "1  8/26/2019 8:00:02 AM  Metropolitan Museum of Art, New York, NY  \n",
       "2  8/26/2019 8:00:02 AM  Metropolitan Museum of Art, New York, NY  \n",
       "3  8/26/2019 8:00:02 AM  Metropolitan Museum of Art, New York, NY  \n",
       "4  8/26/2019 8:00:02 AM  Metropolitan Museum of Art, New York, NY  "
      ]
     },
     "execution_count": 21,
     "metadata": {},
     "output_type": "execute_result"
    }
   ],
   "source": [
    "df.head()"
   ]
  },
  {
   "cell_type": "code",
   "execution_count": null,
   "metadata": {},
   "outputs": [],
   "source": []
  },
  {
   "cell_type": "code",
   "execution_count": null,
   "metadata": {},
   "outputs": [],
   "source": []
  },
  {
   "cell_type": "code",
   "execution_count": null,
   "metadata": {},
   "outputs": [],
   "source": []
  }
 ],
 "metadata": {
  "kernelspec": {
   "display_name": "Python 3",
   "language": "python",
   "name": "python3"
  },
  "language_info": {
   "codemirror_mode": {
    "name": "ipython",
    "version": 3
   },
   "file_extension": ".py",
   "mimetype": "text/x-python",
   "name": "python",
   "nbconvert_exporter": "python",
   "pygments_lexer": "ipython3",
   "version": "3.7.3"
  }
 },
 "nbformat": 4,
 "nbformat_minor": 2
}
